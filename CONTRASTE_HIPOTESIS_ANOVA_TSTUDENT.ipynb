{
 "cells": [
  {
   "cell_type": "code",
   "execution_count": 1,
   "metadata": {},
   "outputs": [],
   "source": [
    "import pandas as pd\n",
    "import numpy as np\n"
   ]
  },
  {
   "cell_type": "markdown",
   "metadata": {},
   "source": [
    "# https://docs.scipy.org/doc/scipy/reference/stats.html"
   ]
  },
  {
   "cell_type": "code",
   "execution_count": 2,
   "metadata": {},
   "outputs": [],
   "source": [
    "\n",
    "import matplotlib.pyplot as plt\n",
    "import seaborn as sns\n",
    "\n",
    "from scipy.stats import norm\n",
    "from sklearn.preprocessing import StandardScaler\n",
    "from scipy import stats\n",
    "import warnings\n",
    "warnings.filterwarnings('ignore')\n",
    "%matplotlib inline"
   ]
  },
  {
   "cell_type": "code",
   "execution_count": 3,
   "metadata": {},
   "outputs": [],
   "source": [
    "data_xls = pd.read_excel('data_1.xlsx', 'Hoja1', index_col=None)\n",
    "data_xls.to_csv('csvfile.csv', encoding='utf-8', index=False)"
   ]
  },
  {
   "cell_type": "code",
   "execution_count": 4,
   "metadata": {},
   "outputs": [],
   "source": [
    "df = pd.read_csv('csvfile.csv',low_memory=False)"
   ]
  },
  {
   "cell_type": "code",
   "execution_count": 5,
   "metadata": {},
   "outputs": [
    {
     "data": {
      "text/html": [
       "<div>\n",
       "<style scoped>\n",
       "    .dataframe tbody tr th:only-of-type {\n",
       "        vertical-align: middle;\n",
       "    }\n",
       "\n",
       "    .dataframe tbody tr th {\n",
       "        vertical-align: top;\n",
       "    }\n",
       "\n",
       "    .dataframe thead th {\n",
       "        text-align: right;\n",
       "    }\n",
       "</style>\n",
       "<table border=\"1\" class=\"dataframe\">\n",
       "  <thead>\n",
       "    <tr style=\"text-align: right;\">\n",
       "      <th></th>\n",
       "      <th>EDAD</th>\n",
       "      <th>EDAD &lt;55 O &gt;55</th>\n",
       "      <th>TIPO DE PARALISIS FACIAL</th>\n",
       "      <th>TIEMPO EVOLUCION</th>\n",
       "      <th>&lt;36 meses, &gt;36 m</th>\n",
       "      <th>Nº INFILTRACIONES</th>\n",
       "      <th>GRADO ESCALA HOUSE-BRACKMANN</th>\n",
       "      <th>SUNNYBROOK PRE</th>\n",
       "      <th>SUNNYBROOK POST</th>\n",
       "      <th>FDI PUNTUACIÓN SUBESCALA FUNCIONAMIENTO FÍSICO</th>\n",
       "      <th>FDI PUNTUACIÓN SUBESCALA FUNCIONAMIENTO SOCIAL Y BIENESTAR</th>\n",
       "      <th>CUESTIONARIO DE SATISFACCIÓN</th>\n",
       "      <th>PUNTUACIÓN MEDIA CUESTIONARIO SATISFACCIÓN DISMINUCIÓN TIRANTEZ</th>\n",
       "      <th>PUNTUACIÓN MEDIA CUESTIONARIO SATISFACCIÓN DISMINUCIÓN SINCINESIAS</th>\n",
       "      <th>SEXO</th>\n",
       "    </tr>\n",
       "  </thead>\n",
       "  <tbody>\n",
       "    <tr>\n",
       "      <th>0</th>\n",
       "      <td>42</td>\n",
       "      <td>0</td>\n",
       "      <td>2</td>\n",
       "      <td>12</td>\n",
       "      <td>0</td>\n",
       "      <td>1</td>\n",
       "      <td>2</td>\n",
       "      <td>45</td>\n",
       "      <td>50</td>\n",
       "      <td>65</td>\n",
       "      <td>24</td>\n",
       "      <td>1</td>\n",
       "      <td>5.67</td>\n",
       "      <td>5.00</td>\n",
       "      <td>MASCULINO</td>\n",
       "    </tr>\n",
       "    <tr>\n",
       "      <th>1</th>\n",
       "      <td>56</td>\n",
       "      <td>1</td>\n",
       "      <td>3</td>\n",
       "      <td>59</td>\n",
       "      <td>1</td>\n",
       "      <td>6</td>\n",
       "      <td>2</td>\n",
       "      <td>54</td>\n",
       "      <td>87</td>\n",
       "      <td>100</td>\n",
       "      <td>44</td>\n",
       "      <td>0</td>\n",
       "      <td>7.66</td>\n",
       "      <td>7.25</td>\n",
       "      <td>FEMENINO</td>\n",
       "    </tr>\n",
       "    <tr>\n",
       "      <th>2</th>\n",
       "      <td>61</td>\n",
       "      <td>1</td>\n",
       "      <td>2</td>\n",
       "      <td>78</td>\n",
       "      <td>1</td>\n",
       "      <td>7</td>\n",
       "      <td>3</td>\n",
       "      <td>57</td>\n",
       "      <td>72</td>\n",
       "      <td>100</td>\n",
       "      <td>36</td>\n",
       "      <td>0</td>\n",
       "      <td>9.00</td>\n",
       "      <td>10.00</td>\n",
       "      <td>FEMENINO</td>\n",
       "    </tr>\n",
       "    <tr>\n",
       "      <th>3</th>\n",
       "      <td>44</td>\n",
       "      <td>0</td>\n",
       "      <td>2</td>\n",
       "      <td>27</td>\n",
       "      <td>0</td>\n",
       "      <td>2</td>\n",
       "      <td>2</td>\n",
       "      <td>62</td>\n",
       "      <td>70</td>\n",
       "      <td>90</td>\n",
       "      <td>52</td>\n",
       "      <td>1</td>\n",
       "      <td>7.00</td>\n",
       "      <td>10.00</td>\n",
       "      <td>FEMENINO</td>\n",
       "    </tr>\n",
       "    <tr>\n",
       "      <th>4</th>\n",
       "      <td>69</td>\n",
       "      <td>1</td>\n",
       "      <td>2</td>\n",
       "      <td>27</td>\n",
       "      <td>0</td>\n",
       "      <td>3</td>\n",
       "      <td>3</td>\n",
       "      <td>27</td>\n",
       "      <td>48</td>\n",
       "      <td>50</td>\n",
       "      <td>28</td>\n",
       "      <td>1</td>\n",
       "      <td>7.25</td>\n",
       "      <td>7.25</td>\n",
       "      <td>MASCULINO</td>\n",
       "    </tr>\n",
       "  </tbody>\n",
       "</table>\n",
       "</div>"
      ],
      "text/plain": [
       "   EDAD  EDAD <55 O >55  TIPO DE PARALISIS FACIAL  TIEMPO EVOLUCION   \\\n",
       "0    42               0                         2                 12   \n",
       "1    56               1                         3                 59   \n",
       "2    61               1                         2                 78   \n",
       "3    44               0                         2                 27   \n",
       "4    69               1                         2                 27   \n",
       "\n",
       "   <36 meses, >36 m  Nº INFILTRACIONES  GRADO ESCALA HOUSE-BRACKMANN  \\\n",
       "0                 0                  1                             2   \n",
       "1                 1                  6                             2   \n",
       "2                 1                  7                             3   \n",
       "3                 0                  2                             2   \n",
       "4                 0                  3                             3   \n",
       "\n",
       "   SUNNYBROOK PRE  SUNNYBROOK POST  \\\n",
       "0              45               50   \n",
       "1              54               87   \n",
       "2              57               72   \n",
       "3              62               70   \n",
       "4              27               48   \n",
       "\n",
       "   FDI PUNTUACIÓN SUBESCALA FUNCIONAMIENTO FÍSICO  \\\n",
       "0                                              65   \n",
       "1                                             100   \n",
       "2                                             100   \n",
       "3                                              90   \n",
       "4                                              50   \n",
       "\n",
       "   FDI PUNTUACIÓN SUBESCALA FUNCIONAMIENTO SOCIAL Y BIENESTAR   \\\n",
       "0                                                 24             \n",
       "1                                                 44             \n",
       "2                                                 36             \n",
       "3                                                 52             \n",
       "4                                                 28             \n",
       "\n",
       "   CUESTIONARIO DE SATISFACCIÓN  \\\n",
       "0                             1   \n",
       "1                             0   \n",
       "2                             0   \n",
       "3                             1   \n",
       "4                             1   \n",
       "\n",
       "   PUNTUACIÓN MEDIA CUESTIONARIO SATISFACCIÓN DISMINUCIÓN TIRANTEZ  \\\n",
       "0                                               5.67                 \n",
       "1                                               7.66                 \n",
       "2                                               9.00                 \n",
       "3                                               7.00                 \n",
       "4                                               7.25                 \n",
       "\n",
       "   PUNTUACIÓN MEDIA CUESTIONARIO SATISFACCIÓN DISMINUCIÓN SINCINESIAS  \\\n",
       "0                                               5.00                    \n",
       "1                                               7.25                    \n",
       "2                                              10.00                    \n",
       "3                                              10.00                    \n",
       "4                                               7.25                    \n",
       "\n",
       "        SEXO  \n",
       "0  MASCULINO  \n",
       "1   FEMENINO  \n",
       "2   FEMENINO  \n",
       "3   FEMENINO  \n",
       "4  MASCULINO  "
      ]
     },
     "execution_count": 5,
     "metadata": {},
     "output_type": "execute_result"
    }
   ],
   "source": [
    "df.head()"
   ]
  },
  {
   "cell_type": "code",
   "execution_count": 6,
   "metadata": {},
   "outputs": [
    {
     "data": {
      "text/html": [
       "<div>\n",
       "<style scoped>\n",
       "    .dataframe tbody tr th:only-of-type {\n",
       "        vertical-align: middle;\n",
       "    }\n",
       "\n",
       "    .dataframe tbody tr th {\n",
       "        vertical-align: top;\n",
       "    }\n",
       "\n",
       "    .dataframe thead th {\n",
       "        text-align: right;\n",
       "    }\n",
       "</style>\n",
       "<table border=\"1\" class=\"dataframe\">\n",
       "  <thead>\n",
       "    <tr style=\"text-align: right;\">\n",
       "      <th></th>\n",
       "      <th>EDAD</th>\n",
       "      <th>EDAD &lt;55 O &gt;55</th>\n",
       "      <th>TIPO DE PARALISIS FACIAL</th>\n",
       "      <th>TIEMPO EVOLUCION</th>\n",
       "      <th>&lt;36 meses, &gt;36 m</th>\n",
       "      <th>Nº INFILTRACIONES</th>\n",
       "      <th>GRADO ESCALA HOUSE-BRACKMANN</th>\n",
       "      <th>SUNNYBROOK PRE</th>\n",
       "      <th>SUNNYBROOK POST</th>\n",
       "      <th>FDI PUNTUACIÓN SUBESCALA FUNCIONAMIENTO FÍSICO</th>\n",
       "      <th>FDI PUNTUACIÓN SUBESCALA FUNCIONAMIENTO SOCIAL Y BIENESTAR</th>\n",
       "      <th>CUESTIONARIO DE SATISFACCIÓN</th>\n",
       "      <th>PUNTUACIÓN MEDIA CUESTIONARIO SATISFACCIÓN DISMINUCIÓN TIRANTEZ</th>\n",
       "      <th>PUNTUACIÓN MEDIA CUESTIONARIO SATISFACCIÓN DISMINUCIÓN SINCINESIAS</th>\n",
       "    </tr>\n",
       "  </thead>\n",
       "  <tbody>\n",
       "    <tr>\n",
       "      <th>count</th>\n",
       "      <td>31.000000</td>\n",
       "      <td>31.000000</td>\n",
       "      <td>31.000000</td>\n",
       "      <td>31.000000</td>\n",
       "      <td>31.000000</td>\n",
       "      <td>31.000000</td>\n",
       "      <td>31.000000</td>\n",
       "      <td>31.000000</td>\n",
       "      <td>31.000000</td>\n",
       "      <td>31.000000</td>\n",
       "      <td>31.000000</td>\n",
       "      <td>31.000000</td>\n",
       "      <td>31.000000</td>\n",
       "      <td>31.000000</td>\n",
       "    </tr>\n",
       "    <tr>\n",
       "      <th>mean</th>\n",
       "      <td>52.258065</td>\n",
       "      <td>0.516129</td>\n",
       "      <td>1.741935</td>\n",
       "      <td>48.935484</td>\n",
       "      <td>0.580645</td>\n",
       "      <td>4.419355</td>\n",
       "      <td>2.548387</td>\n",
       "      <td>52.935484</td>\n",
       "      <td>70.290323</td>\n",
       "      <td>88.064516</td>\n",
       "      <td>46.322581</td>\n",
       "      <td>0.387097</td>\n",
       "      <td>7.857419</td>\n",
       "      <td>8.307419</td>\n",
       "    </tr>\n",
       "    <tr>\n",
       "      <th>std</th>\n",
       "      <td>18.633246</td>\n",
       "      <td>0.508001</td>\n",
       "      <td>0.855092</td>\n",
       "      <td>25.415134</td>\n",
       "      <td>0.501610</td>\n",
       "      <td>3.594201</td>\n",
       "      <td>0.675214</td>\n",
       "      <td>21.762254</td>\n",
       "      <td>19.597948</td>\n",
       "      <td>16.866012</td>\n",
       "      <td>13.886173</td>\n",
       "      <td>0.667204</td>\n",
       "      <td>2.007086</td>\n",
       "      <td>1.459066</td>\n",
       "    </tr>\n",
       "    <tr>\n",
       "      <th>min</th>\n",
       "      <td>15.000000</td>\n",
       "      <td>0.000000</td>\n",
       "      <td>0.000000</td>\n",
       "      <td>12.000000</td>\n",
       "      <td>0.000000</td>\n",
       "      <td>0.000000</td>\n",
       "      <td>2.000000</td>\n",
       "      <td>5.000000</td>\n",
       "      <td>26.000000</td>\n",
       "      <td>45.000000</td>\n",
       "      <td>24.000000</td>\n",
       "      <td>0.000000</td>\n",
       "      <td>0.000000</td>\n",
       "      <td>4.000000</td>\n",
       "    </tr>\n",
       "    <tr>\n",
       "      <th>25%</th>\n",
       "      <td>41.500000</td>\n",
       "      <td>0.000000</td>\n",
       "      <td>1.500000</td>\n",
       "      <td>27.000000</td>\n",
       "      <td>0.000000</td>\n",
       "      <td>2.000000</td>\n",
       "      <td>2.000000</td>\n",
       "      <td>40.000000</td>\n",
       "      <td>54.000000</td>\n",
       "      <td>82.500000</td>\n",
       "      <td>38.000000</td>\n",
       "      <td>0.000000</td>\n",
       "      <td>7.125000</td>\n",
       "      <td>7.500000</td>\n",
       "    </tr>\n",
       "    <tr>\n",
       "      <th>50%</th>\n",
       "      <td>56.000000</td>\n",
       "      <td>1.000000</td>\n",
       "      <td>2.000000</td>\n",
       "      <td>48.000000</td>\n",
       "      <td>1.000000</td>\n",
       "      <td>3.000000</td>\n",
       "      <td>2.000000</td>\n",
       "      <td>56.000000</td>\n",
       "      <td>75.000000</td>\n",
       "      <td>95.000000</td>\n",
       "      <td>44.000000</td>\n",
       "      <td>0.000000</td>\n",
       "      <td>8.250000</td>\n",
       "      <td>8.500000</td>\n",
       "    </tr>\n",
       "    <tr>\n",
       "      <th>75%</th>\n",
       "      <td>67.500000</td>\n",
       "      <td>1.000000</td>\n",
       "      <td>2.000000</td>\n",
       "      <td>71.500000</td>\n",
       "      <td>1.000000</td>\n",
       "      <td>6.500000</td>\n",
       "      <td>3.000000</td>\n",
       "      <td>63.500000</td>\n",
       "      <td>86.500000</td>\n",
       "      <td>100.000000</td>\n",
       "      <td>54.000000</td>\n",
       "      <td>1.000000</td>\n",
       "      <td>9.000000</td>\n",
       "      <td>9.625000</td>\n",
       "    </tr>\n",
       "    <tr>\n",
       "      <th>max</th>\n",
       "      <td>78.000000</td>\n",
       "      <td>1.000000</td>\n",
       "      <td>3.000000</td>\n",
       "      <td>94.000000</td>\n",
       "      <td>1.000000</td>\n",
       "      <td>14.000000</td>\n",
       "      <td>4.000000</td>\n",
       "      <td>96.000000</td>\n",
       "      <td>96.000000</td>\n",
       "      <td>115.000000</td>\n",
       "      <td>80.000000</td>\n",
       "      <td>3.000000</td>\n",
       "      <td>10.000000</td>\n",
       "      <td>10.000000</td>\n",
       "    </tr>\n",
       "  </tbody>\n",
       "</table>\n",
       "</div>"
      ],
      "text/plain": [
       "            EDAD  EDAD <55 O >55  TIPO DE PARALISIS FACIAL  TIEMPO EVOLUCION   \\\n",
       "count  31.000000       31.000000                 31.000000          31.000000   \n",
       "mean   52.258065        0.516129                  1.741935          48.935484   \n",
       "std    18.633246        0.508001                  0.855092          25.415134   \n",
       "min    15.000000        0.000000                  0.000000          12.000000   \n",
       "25%    41.500000        0.000000                  1.500000          27.000000   \n",
       "50%    56.000000        1.000000                  2.000000          48.000000   \n",
       "75%    67.500000        1.000000                  2.000000          71.500000   \n",
       "max    78.000000        1.000000                  3.000000          94.000000   \n",
       "\n",
       "       <36 meses, >36 m  Nº INFILTRACIONES  GRADO ESCALA HOUSE-BRACKMANN  \\\n",
       "count         31.000000          31.000000                     31.000000   \n",
       "mean           0.580645           4.419355                      2.548387   \n",
       "std            0.501610           3.594201                      0.675214   \n",
       "min            0.000000           0.000000                      2.000000   \n",
       "25%            0.000000           2.000000                      2.000000   \n",
       "50%            1.000000           3.000000                      2.000000   \n",
       "75%            1.000000           6.500000                      3.000000   \n",
       "max            1.000000          14.000000                      4.000000   \n",
       "\n",
       "       SUNNYBROOK PRE  SUNNYBROOK POST  \\\n",
       "count       31.000000        31.000000   \n",
       "mean        52.935484        70.290323   \n",
       "std         21.762254        19.597948   \n",
       "min          5.000000        26.000000   \n",
       "25%         40.000000        54.000000   \n",
       "50%         56.000000        75.000000   \n",
       "75%         63.500000        86.500000   \n",
       "max         96.000000        96.000000   \n",
       "\n",
       "       FDI PUNTUACIÓN SUBESCALA FUNCIONAMIENTO FÍSICO  \\\n",
       "count                                       31.000000   \n",
       "mean                                        88.064516   \n",
       "std                                         16.866012   \n",
       "min                                         45.000000   \n",
       "25%                                         82.500000   \n",
       "50%                                         95.000000   \n",
       "75%                                        100.000000   \n",
       "max                                        115.000000   \n",
       "\n",
       "       FDI PUNTUACIÓN SUBESCALA FUNCIONAMIENTO SOCIAL Y BIENESTAR   \\\n",
       "count                                          31.000000             \n",
       "mean                                           46.322581             \n",
       "std                                            13.886173             \n",
       "min                                            24.000000             \n",
       "25%                                            38.000000             \n",
       "50%                                            44.000000             \n",
       "75%                                            54.000000             \n",
       "max                                            80.000000             \n",
       "\n",
       "       CUESTIONARIO DE SATISFACCIÓN  \\\n",
       "count                     31.000000   \n",
       "mean                       0.387097   \n",
       "std                        0.667204   \n",
       "min                        0.000000   \n",
       "25%                        0.000000   \n",
       "50%                        0.000000   \n",
       "75%                        1.000000   \n",
       "max                        3.000000   \n",
       "\n",
       "       PUNTUACIÓN MEDIA CUESTIONARIO SATISFACCIÓN DISMINUCIÓN TIRANTEZ  \\\n",
       "count                                          31.000000                 \n",
       "mean                                            7.857419                 \n",
       "std                                             2.007086                 \n",
       "min                                             0.000000                 \n",
       "25%                                             7.125000                 \n",
       "50%                                             8.250000                 \n",
       "75%                                             9.000000                 \n",
       "max                                            10.000000                 \n",
       "\n",
       "       PUNTUACIÓN MEDIA CUESTIONARIO SATISFACCIÓN DISMINUCIÓN SINCINESIAS  \n",
       "count                                          31.000000                   \n",
       "mean                                            8.307419                   \n",
       "std                                             1.459066                   \n",
       "min                                             4.000000                   \n",
       "25%                                             7.500000                   \n",
       "50%                                             8.500000                   \n",
       "75%                                             9.625000                   \n",
       "max                                            10.000000                   "
      ]
     },
     "execution_count": 6,
     "metadata": {},
     "output_type": "execute_result"
    }
   ],
   "source": [
    "df.describe()"
   ]
  },
  {
   "cell_type": "code",
   "execution_count": 7,
   "metadata": {},
   "outputs": [
    {
     "data": {
      "text/plain": [
       "array(['EDAD', 'EDAD <55 O >55', 'TIPO DE PARALISIS FACIAL',\n",
       "       'TIEMPO EVOLUCION ', '<36 meses, >36 m', 'Nº INFILTRACIONES',\n",
       "       'GRADO ESCALA HOUSE-BRACKMANN', 'SUNNYBROOK PRE',\n",
       "       'SUNNYBROOK POST',\n",
       "       'FDI PUNTUACIÓN SUBESCALA FUNCIONAMIENTO FÍSICO',\n",
       "       'FDI PUNTUACIÓN SUBESCALA FUNCIONAMIENTO SOCIAL Y BIENESTAR ',\n",
       "       'CUESTIONARIO DE SATISFACCIÓN',\n",
       "       'PUNTUACIÓN MEDIA CUESTIONARIO SATISFACCIÓN DISMINUCIÓN TIRANTEZ',\n",
       "       'PUNTUACIÓN MEDIA CUESTIONARIO SATISFACCIÓN DISMINUCIÓN SINCINESIAS',\n",
       "       'SEXO'], dtype=object)"
      ]
     },
     "execution_count": 7,
     "metadata": {},
     "output_type": "execute_result"
    }
   ],
   "source": [
    "df.columns.values"
   ]
  },
  {
   "cell_type": "code",
   "execution_count": 8,
   "metadata": {},
   "outputs": [
    {
     "data": {
      "text/plain": [
       "(31, 15)"
      ]
     },
     "execution_count": 8,
     "metadata": {},
     "output_type": "execute_result"
    }
   ],
   "source": [
    "df.shape"
   ]
  },
  {
   "cell_type": "code",
   "execution_count": 9,
   "metadata": {},
   "outputs": [
    {
     "name": "stdout",
     "output_type": "stream",
     "text": [
      "<class 'pandas.core.frame.DataFrame'>\n",
      "RangeIndex: 31 entries, 0 to 30\n",
      "Data columns (total 15 columns):\n",
      "EDAD                                                                  31 non-null int64\n",
      "EDAD <55 O >55                                                        31 non-null int64\n",
      "TIPO DE PARALISIS FACIAL                                              31 non-null int64\n",
      "TIEMPO EVOLUCION                                                      31 non-null int64\n",
      "<36 meses, >36 m                                                      31 non-null int64\n",
      "Nº INFILTRACIONES                                                     31 non-null int64\n",
      "GRADO ESCALA HOUSE-BRACKMANN                                          31 non-null int64\n",
      "SUNNYBROOK PRE                                                        31 non-null int64\n",
      "SUNNYBROOK POST                                                       31 non-null int64\n",
      "FDI PUNTUACIÓN SUBESCALA FUNCIONAMIENTO FÍSICO                        31 non-null int64\n",
      "FDI PUNTUACIÓN SUBESCALA FUNCIONAMIENTO SOCIAL Y BIENESTAR            31 non-null int64\n",
      "CUESTIONARIO DE SATISFACCIÓN                                          31 non-null int64\n",
      "PUNTUACIÓN MEDIA CUESTIONARIO SATISFACCIÓN DISMINUCIÓN TIRANTEZ       31 non-null float64\n",
      "PUNTUACIÓN MEDIA CUESTIONARIO SATISFACCIÓN DISMINUCIÓN SINCINESIAS    31 non-null float64\n",
      "SEXO                                                                  31 non-null object\n",
      "dtypes: float64(2), int64(12), object(1)\n",
      "memory usage: 3.8+ KB\n"
     ]
    }
   ],
   "source": [
    "df.info()"
   ]
  },
  {
   "cell_type": "code",
   "execution_count": 11,
   "metadata": {},
   "outputs": [
    {
     "data": {
      "text/plain": [
       "(31, 15)"
      ]
     },
     "execution_count": 11,
     "metadata": {},
     "output_type": "execute_result"
    }
   ],
   "source": [
    "df.shape"
   ]
  },
  {
   "cell_type": "code",
   "execution_count": 12,
   "metadata": {},
   "outputs": [
    {
     "data": {
      "image/png": "[encoded data removed]",
      "text/plain": [
       "<Figure size 864x648 with 2 Axes>"
      ]
     },
     "metadata": {
      "needs_background": "light"
     },
     "output_type": "display_data"
    }
   ],
   "source": [
    "corrmat = df.corr()\n",
    "f, ax = plt.subplots(figsize=(12, 9))\n",
    "sns.heatmap(corrmat, vmax=.8, square=True);"
   ]
  },
  {
   "cell_type": "code",
   "execution_count": 13,
   "metadata": {},
   "outputs": [
    {
     "data": {
      "image/png": "[encoded data removed]",
      "text/plain": [
       "<Figure size 720x720 with 2 Axes>"
      ]
     },
     "metadata": {
      "needs_background": "light"
     },
     "output_type": "display_data"
    }
   ],
   "source": [
    "f,ax = plt.subplots(figsize=(10, 10))\n",
    "sns.heatmap(df.corr(), annot=True, linewidths=.3, fmt= '.1f',ax=ax)\n",
    "plt.show()"
   ]
  },
  {
   "cell_type": "code",
   "execution_count": 14,
   "metadata": {},
   "outputs": [],
   "source": [
    "df = df.drop(['EDAD', 'PUNTUACIÓN MEDIA CUESTIONARIO SATISFACCIÓN DISMINUCIÓN TIRANTEZ', 'PUNTUACIÓN MEDIA CUESTIONARIO SATISFACCIÓN DISMINUCIÓN SINCINESIAS'], axis=1)"
   ]
  },
  {
   "cell_type": "code",
   "execution_count": 15,
   "metadata": {
    "scrolled": true
   },
   "outputs": [],
   "source": [
    "df = df.drop(['TIEMPO EVOLUCION '], axis=1)"
   ]
  },
  {
   "cell_type": "code",
   "execution_count": 16,
   "metadata": {},
   "outputs": [
    {
     "data": {
      "text/plain": [
       "(31, 11)"
      ]
     },
     "execution_count": 16,
     "metadata": {},
     "output_type": "execute_result"
    }
   ],
   "source": [
    "df.shape"
   ]
  },
  {
   "cell_type": "code",
   "execution_count": 17,
   "metadata": {},
   "outputs": [
    {
     "data": {
      "image/png": "[encoded data removed]",
      "text/plain": [
       "<Figure size 720x720 with 2 Axes>"
      ]
     },
     "metadata": {
      "needs_background": "light"
     },
     "output_type": "display_data"
    }
   ],
   "source": [
    "f,ax = plt.subplots(figsize=(10, 10))\n",
    "sns.heatmap(df.corr(), annot=True, linewidths=.3, fmt= '.1f',ax=ax)\n",
    "plt.show()"
   ]
  },
  {
   "cell_type": "code",
   "execution_count": 18,
   "metadata": {
    "scrolled": true
   },
   "outputs": [
    {
     "data": {
      "text/html": [
       "<div>\n",
       "<style scoped>\n",
       "    .dataframe tbody tr th:only-of-type {\n",
       "        vertical-align: middle;\n",
       "    }\n",
       "\n",
       "    .dataframe tbody tr th {\n",
       "        vertical-align: top;\n",
       "    }\n",
       "\n",
       "    .dataframe thead th {\n",
       "        text-align: right;\n",
       "    }\n",
       "</style>\n",
       "<table border=\"1\" class=\"dataframe\">\n",
       "  <thead>\n",
       "    <tr style=\"text-align: right;\">\n",
       "      <th></th>\n",
       "      <th>EDAD &lt;55 O &gt;55</th>\n",
       "      <th>TIPO DE PARALISIS FACIAL</th>\n",
       "      <th>&lt;36 meses, &gt;36 m</th>\n",
       "      <th>Nº INFILTRACIONES</th>\n",
       "      <th>GRADO ESCALA HOUSE-BRACKMANN</th>\n",
       "      <th>SUNNYBROOK PRE</th>\n",
       "      <th>SUNNYBROOK POST</th>\n",
       "      <th>FDI PUNTUACIÓN SUBESCALA FUNCIONAMIENTO FÍSICO</th>\n",
       "      <th>FDI PUNTUACIÓN SUBESCALA FUNCIONAMIENTO SOCIAL Y BIENESTAR</th>\n",
       "      <th>CUESTIONARIO DE SATISFACCIÓN</th>\n",
       "    </tr>\n",
       "  </thead>\n",
       "  <tbody>\n",
       "    <tr>\n",
       "      <th>EDAD &lt;55 O &gt;55</th>\n",
       "      <td>0.258065</td>\n",
       "      <td>0.137634</td>\n",
       "      <td>0.090323</td>\n",
       "      <td>0.309677</td>\n",
       "      <td>-0.092473</td>\n",
       "      <td>-0.765591</td>\n",
       "      <td>2.711828</td>\n",
       "      <td>-1.301075</td>\n",
       "      <td>1.827957</td>\n",
       "      <td>-0.039785</td>\n",
       "    </tr>\n",
       "    <tr>\n",
       "      <th>TIPO DE PARALISIS FACIAL</th>\n",
       "      <td>0.137634</td>\n",
       "      <td>0.731183</td>\n",
       "      <td>-0.011828</td>\n",
       "      <td>0.245161</td>\n",
       "      <td>-0.153763</td>\n",
       "      <td>0.382796</td>\n",
       "      <td>7.610753</td>\n",
       "      <td>-1.682796</td>\n",
       "      <td>-1.380645</td>\n",
       "      <td>-0.030108</td>\n",
       "    </tr>\n",
       "    <tr>\n",
       "      <th>&lt;36 meses, &gt;36 m</th>\n",
       "      <td>0.090323</td>\n",
       "      <td>-0.011828</td>\n",
       "      <td>0.251613</td>\n",
       "      <td>0.815054</td>\n",
       "      <td>0.004301</td>\n",
       "      <td>-2.594624</td>\n",
       "      <td>0.359140</td>\n",
       "      <td>0.994624</td>\n",
       "      <td>0.739785</td>\n",
       "      <td>-0.032258</td>\n",
       "    </tr>\n",
       "    <tr>\n",
       "      <th>Nº INFILTRACIONES</th>\n",
       "      <td>0.309677</td>\n",
       "      <td>0.245161</td>\n",
       "      <td>0.815054</td>\n",
       "      <td>12.918280</td>\n",
       "      <td>0.762366</td>\n",
       "      <td>0.361290</td>\n",
       "      <td>4.574194</td>\n",
       "      <td>20.838710</td>\n",
       "      <td>-2.473118</td>\n",
       "      <td>-0.634409</td>\n",
       "    </tr>\n",
       "    <tr>\n",
       "      <th>GRADO ESCALA HOUSE-BRACKMANN</th>\n",
       "      <td>-0.092473</td>\n",
       "      <td>-0.153763</td>\n",
       "      <td>0.004301</td>\n",
       "      <td>0.762366</td>\n",
       "      <td>0.455914</td>\n",
       "      <td>-2.696774</td>\n",
       "      <td>-2.831183</td>\n",
       "      <td>-1.236559</td>\n",
       "      <td>-2.116129</td>\n",
       "      <td>-0.052688</td>\n",
       "    </tr>\n",
       "    <tr>\n",
       "      <th>SUNNYBROOK PRE</th>\n",
       "      <td>-0.765591</td>\n",
       "      <td>0.382796</td>\n",
       "      <td>-2.594624</td>\n",
       "      <td>0.361290</td>\n",
       "      <td>-2.696774</td>\n",
       "      <td>473.595699</td>\n",
       "      <td>133.186022</td>\n",
       "      <td>50.870968</td>\n",
       "      <td>-60.378495</td>\n",
       "      <td>-1.174194</td>\n",
       "    </tr>\n",
       "    <tr>\n",
       "      <th>SUNNYBROOK POST</th>\n",
       "      <td>2.711828</td>\n",
       "      <td>7.610753</td>\n",
       "      <td>0.359140</td>\n",
       "      <td>4.574194</td>\n",
       "      <td>-2.831183</td>\n",
       "      <td>133.186022</td>\n",
       "      <td>384.079570</td>\n",
       "      <td>-7.086022</td>\n",
       "      <td>-22.030108</td>\n",
       "      <td>-0.416129</td>\n",
       "    </tr>\n",
       "    <tr>\n",
       "      <th>FDI PUNTUACIÓN SUBESCALA FUNCIONAMIENTO FÍSICO</th>\n",
       "      <td>-1.301075</td>\n",
       "      <td>-1.682796</td>\n",
       "      <td>0.994624</td>\n",
       "      <td>20.838710</td>\n",
       "      <td>-1.236559</td>\n",
       "      <td>50.870968</td>\n",
       "      <td>-7.086022</td>\n",
       "      <td>284.462366</td>\n",
       "      <td>59.978495</td>\n",
       "      <td>-6.392473</td>\n",
       "    </tr>\n",
       "    <tr>\n",
       "      <th>FDI PUNTUACIÓN SUBESCALA FUNCIONAMIENTO SOCIAL Y BIENESTAR</th>\n",
       "      <td>1.827957</td>\n",
       "      <td>-1.380645</td>\n",
       "      <td>0.739785</td>\n",
       "      <td>-2.473118</td>\n",
       "      <td>-2.116129</td>\n",
       "      <td>-60.378495</td>\n",
       "      <td>-22.030108</td>\n",
       "      <td>59.978495</td>\n",
       "      <td>192.825806</td>\n",
       "      <td>-3.729032</td>\n",
       "    </tr>\n",
       "    <tr>\n",
       "      <th>CUESTIONARIO DE SATISFACCIÓN</th>\n",
       "      <td>-0.039785</td>\n",
       "      <td>-0.030108</td>\n",
       "      <td>-0.032258</td>\n",
       "      <td>-0.634409</td>\n",
       "      <td>-0.052688</td>\n",
       "      <td>-1.174194</td>\n",
       "      <td>-0.416129</td>\n",
       "      <td>-6.392473</td>\n",
       "      <td>-3.729032</td>\n",
       "      <td>0.445161</td>\n",
       "    </tr>\n",
       "  </tbody>\n",
       "</table>\n",
       "</div>"
      ],
      "text/plain": [
       "                                                    EDAD <55 O >55  \\\n",
       "EDAD <55 O >55                                            0.258065   \n",
       "TIPO DE PARALISIS FACIAL                                  0.137634   \n",
       "<36 meses, >36 m                                          0.090323   \n",
       "Nº INFILTRACIONES                                         0.309677   \n",
       "GRADO ESCALA HOUSE-BRACKMANN                             -0.092473   \n",
       "SUNNYBROOK PRE                                           -0.765591   \n",
       "SUNNYBROOK POST                                           2.711828   \n",
       "FDI PUNTUACIÓN SUBESCALA FUNCIONAMIENTO FÍSICO           -1.301075   \n",
       "FDI PUNTUACIÓN SUBESCALA FUNCIONAMIENTO SOCIAL ...        1.827957   \n",
       "CUESTIONARIO DE SATISFACCIÓN                             -0.039785   \n",
       "\n",
       "                                                    TIPO DE PARALISIS FACIAL  \\\n",
       "EDAD <55 O >55                                                      0.137634   \n",
       "TIPO DE PARALISIS FACIAL                                            0.731183   \n",
       "<36 meses, >36 m                                                   -0.011828   \n",
       "Nº INFILTRACIONES                                                   0.245161   \n",
       "GRADO ESCALA HOUSE-BRACKMANN                                       -0.153763   \n",
       "SUNNYBROOK PRE                                                      0.382796   \n",
       "SUNNYBROOK POST                                                     7.610753   \n",
       "FDI PUNTUACIÓN SUBESCALA FUNCIONAMIENTO FÍSICO                     -1.682796   \n",
       "FDI PUNTUACIÓN SUBESCALA FUNCIONAMIENTO SOCIAL ...                 -1.380645   \n",
       "CUESTIONARIO DE SATISFACCIÓN                                       -0.030108   \n",
       "\n",
       "                                                    <36 meses, >36 m  \\\n",
       "EDAD <55 O >55                                              0.090323   \n",
       "TIPO DE PARALISIS FACIAL                                   -0.011828   \n",
       "<36 meses, >36 m                                            0.251613   \n",
       "Nº INFILTRACIONES                                           0.815054   \n",
       "GRADO ESCALA HOUSE-BRACKMANN                                0.004301   \n",
       "SUNNYBROOK PRE                                             -2.594624   \n",
       "SUNNYBROOK POST                                             0.359140   \n",
       "FDI PUNTUACIÓN SUBESCALA FUNCIONAMIENTO FÍSICO              0.994624   \n",
       "FDI PUNTUACIÓN SUBESCALA FUNCIONAMIENTO SOCIAL ...          0.739785   \n",
       "CUESTIONARIO DE SATISFACCIÓN                               -0.032258   \n",
       "\n",
       "                                                    Nº INFILTRACIONES  \\\n",
       "EDAD <55 O >55                                               0.309677   \n",
       "TIPO DE PARALISIS FACIAL                                     0.245161   \n",
       "<36 meses, >36 m                                             0.815054   \n",
       "Nº INFILTRACIONES                                           12.918280   \n",
       "GRADO ESCALA HOUSE-BRACKMANN                                 0.762366   \n",
       "SUNNYBROOK PRE                                               0.361290   \n",
       "SUNNYBROOK POST                                              4.574194   \n",
       "FDI PUNTUACIÓN SUBESCALA FUNCIONAMIENTO FÍSICO              20.838710   \n",
       "FDI PUNTUACIÓN SUBESCALA FUNCIONAMIENTO SOCIAL ...          -2.473118   \n",
       "CUESTIONARIO DE SATISFACCIÓN                                -0.634409   \n",
       "\n",
       "                                                    GRADO ESCALA HOUSE-BRACKMANN  \\\n",
       "EDAD <55 O >55                                                         -0.092473   \n",
       "TIPO DE PARALISIS FACIAL                                               -0.153763   \n",
       "<36 meses, >36 m                                                        0.004301   \n",
       "Nº INFILTRACIONES                                                       0.762366   \n",
       "GRADO ESCALA HOUSE-BRACKMANN                                            0.455914   \n",
       "SUNNYBROOK PRE                                                         -2.696774   \n",
       "SUNNYBROOK POST                                                        -2.831183   \n",
       "FDI PUNTUACIÓN SUBESCALA FUNCIONAMIENTO FÍSICO                         -1.236559   \n",
       "FDI PUNTUACIÓN SUBESCALA FUNCIONAMIENTO SOCIAL ...                     -2.116129   \n",
       "CUESTIONARIO DE SATISFACCIÓN                                           -0.052688   \n",
       "\n",
       "                                                    SUNNYBROOK PRE  \\\n",
       "EDAD <55 O >55                                           -0.765591   \n",
       "TIPO DE PARALISIS FACIAL                                  0.382796   \n",
       "<36 meses, >36 m                                         -2.594624   \n",
       "Nº INFILTRACIONES                                         0.361290   \n",
       "GRADO ESCALA HOUSE-BRACKMANN                             -2.696774   \n",
       "SUNNYBROOK PRE                                          473.595699   \n",
       "SUNNYBROOK POST                                         133.186022   \n",
       "FDI PUNTUACIÓN SUBESCALA FUNCIONAMIENTO FÍSICO           50.870968   \n",
       "FDI PUNTUACIÓN SUBESCALA FUNCIONAMIENTO SOCIAL ...      -60.378495   \n",
       "CUESTIONARIO DE SATISFACCIÓN                             -1.174194   \n",
       "\n",
       "                                                    SUNNYBROOK POST  \\\n",
       "EDAD <55 O >55                                             2.711828   \n",
       "TIPO DE PARALISIS FACIAL                                   7.610753   \n",
       "<36 meses, >36 m                                           0.359140   \n",
       "Nº INFILTRACIONES                                          4.574194   \n",
       "GRADO ESCALA HOUSE-BRACKMANN                              -2.831183   \n",
       "SUNNYBROOK PRE                                           133.186022   \n",
       "SUNNYBROOK POST                                          384.079570   \n",
       "FDI PUNTUACIÓN SUBESCALA FUNCIONAMIENTO FÍSICO            -7.086022   \n",
       "FDI PUNTUACIÓN SUBESCALA FUNCIONAMIENTO SOCIAL ...       -22.030108   \n",
       "CUESTIONARIO DE SATISFACCIÓN                              -0.416129   \n",
       "\n",
       "                                                    FDI PUNTUACIÓN SUBESCALA FUNCIONAMIENTO FÍSICO  \\\n",
       "EDAD <55 O >55                                                                           -1.301075   \n",
       "TIPO DE PARALISIS FACIAL                                                                 -1.682796   \n",
       "<36 meses, >36 m                                                                          0.994624   \n",
       "Nº INFILTRACIONES                                                                        20.838710   \n",
       "GRADO ESCALA HOUSE-BRACKMANN                                                             -1.236559   \n",
       "SUNNYBROOK PRE                                                                           50.870968   \n",
       "SUNNYBROOK POST                                                                          -7.086022   \n",
       "FDI PUNTUACIÓN SUBESCALA FUNCIONAMIENTO FÍSICO                                          284.462366   \n",
       "FDI PUNTUACIÓN SUBESCALA FUNCIONAMIENTO SOCIAL ...                                       59.978495   \n",
       "CUESTIONARIO DE SATISFACCIÓN                                                             -6.392473   \n",
       "\n",
       "                                                    FDI PUNTUACIÓN SUBESCALA FUNCIONAMIENTO SOCIAL Y BIENESTAR   \\\n",
       "EDAD <55 O >55                                                                               1.827957             \n",
       "TIPO DE PARALISIS FACIAL                                                                    -1.380645             \n",
       "<36 meses, >36 m                                                                             0.739785             \n",
       "Nº INFILTRACIONES                                                                           -2.473118             \n",
       "GRADO ESCALA HOUSE-BRACKMANN                                                                -2.116129             \n",
       "SUNNYBROOK PRE                                                                             -60.378495             \n",
       "SUNNYBROOK POST                                                                            -22.030108             \n",
       "FDI PUNTUACIÓN SUBESCALA FUNCIONAMIENTO FÍSICO                                              59.978495             \n",
       "FDI PUNTUACIÓN SUBESCALA FUNCIONAMIENTO SOCIAL ...                                         192.825806             \n",
       "CUESTIONARIO DE SATISFACCIÓN                                                                -3.729032             \n",
       "\n",
       "                                                    CUESTIONARIO DE SATISFACCIÓN  \n",
       "EDAD <55 O >55                                                         -0.039785  \n",
       "TIPO DE PARALISIS FACIAL                                               -0.030108  \n",
       "<36 meses, >36 m                                                       -0.032258  \n",
       "Nº INFILTRACIONES                                                      -0.634409  \n",
       "GRADO ESCALA HOUSE-BRACKMANN                                           -0.052688  \n",
       "SUNNYBROOK PRE                                                         -1.174194  \n",
       "SUNNYBROOK POST                                                        -0.416129  \n",
       "FDI PUNTUACIÓN SUBESCALA FUNCIONAMIENTO FÍSICO                         -6.392473  \n",
       "FDI PUNTUACIÓN SUBESCALA FUNCIONAMIENTO SOCIAL ...                     -3.729032  \n",
       "CUESTIONARIO DE SATISFACCIÓN                                            0.445161  "
      ]
     },
     "execution_count": 18,
     "metadata": {},
     "output_type": "execute_result"
    }
   ],
   "source": [
    "df.cov()"
   ]
  },
  {
   "cell_type": "code",
   "execution_count": 19,
   "metadata": {},
   "outputs": [
    {
     "data": {
      "text/plain": [
       "array(['EDAD <55 O >55', 'TIPO DE PARALISIS FACIAL', '<36 meses, >36 m',\n",
       "       'Nº INFILTRACIONES', 'GRADO ESCALA HOUSE-BRACKMANN',\n",
       "       'SUNNYBROOK PRE', 'SUNNYBROOK POST',\n",
       "       'FDI PUNTUACIÓN SUBESCALA FUNCIONAMIENTO FÍSICO',\n",
       "       'FDI PUNTUACIÓN SUBESCALA FUNCIONAMIENTO SOCIAL Y BIENESTAR ',\n",
       "       'CUESTIONARIO DE SATISFACCIÓN', 'SEXO'], dtype=object)"
      ]
     },
     "execution_count": 19,
     "metadata": {},
     "output_type": "execute_result"
    }
   ],
   "source": [
    "df.columns.values"
   ]
  },
  {
   "cell_type": "code",
   "execution_count": 20,
   "metadata": {},
   "outputs": [
    {
     "data": {
      "image/png": "[encoded data removed]",
      "text/plain": [
       "<Figure size 432x288 with 1 Axes>"
      ]
     },
     "metadata": {
      "needs_background": "light"
     },
     "output_type": "display_data"
    }
   ],
   "source": [
    "# histograma duración de erupciones con 8 barras\n",
    "df['SUNNYBROOK PRE'].hist(bins=8) \n",
    "plt.xlabel(\"ANTES DE\")\n",
    "plt.ylabel(\"Frecuencia\")\n",
    "plt.show()\n"
   ]
  },
  {
   "cell_type": "code",
   "execution_count": 21,
   "metadata": {},
   "outputs": [
    {
     "data": {
      "image/png": "[encoded data removed]",
      "text/plain": [
       "<Figure size 432x288 with 1 Axes>"
      ]
     },
     "metadata": {
      "needs_background": "light"
     },
     "output_type": "display_data"
    }
   ],
   "source": [
    "df['SUNNYBROOK POST'].hist(bins=8) \n",
    "plt.xlabel(\"DESPUES DE\")\n",
    "plt.ylabel(\"Frecuencia\")\n",
    "plt.show()"
   ]
  },
  {
   "cell_type": "code",
   "execution_count": 22,
   "metadata": {
    "scrolled": true
   },
   "outputs": [
    {
     "data": {
      "image/png": "[encoded data removed]",
      "text/plain": [
       "<Figure size 432x288 with 1 Axes>"
      ]
     },
     "metadata": {
      "needs_background": "light"
     },
     "output_type": "display_data"
    }
   ],
   "source": [
    "disp= df.plot(kind='scatter', x='SUNNYBROOK PRE', y='SUNNYBROOK POST')"
   ]
  },
  {
   "cell_type": "code",
   "execution_count": 23,
   "metadata": {},
   "outputs": [
    {
     "data": {
      "image/png": "[encoded data removed]",
      "text/plain": [
       "<Figure size 432x288 with 1 Axes>"
      ]
     },
     "metadata": {
      "needs_background": "light"
     },
     "output_type": "display_data"
    }
   ],
   "source": [
    "disp1= df.plot(kind='scatter', x='SUNNYBROOK POST', y='SUNNYBROOK PRE')"
   ]
  },
  {
   "cell_type": "markdown",
   "metadata": {},
   "source": [
    "* y = b0 +b1x (y = SUNNYBROOK POST, x = SUNNYBROOK PRE )"
   ]
  },
  {
   "cell_type": "code",
   "execution_count": 24,
   "metadata": {},
   "outputs": [],
   "source": [
    "df = df.rename(columns={'SUNNYBROOK PRE':'x', 'SUNNYBROOK POST':'y'})"
   ]
  },
  {
   "cell_type": "code",
   "execution_count": 25,
   "metadata": {},
   "outputs": [
    {
     "name": "stdout",
     "output_type": "stream",
     "text": [
      "1641\n"
     ]
    }
   ],
   "source": [
    "sx=df['x'].sum()\n",
    "print(sx)"
   ]
  },
  {
   "cell_type": "code",
   "execution_count": 26,
   "metadata": {},
   "outputs": [
    {
     "name": "stdout",
     "output_type": "stream",
     "text": [
      "2179\n"
     ]
    }
   ],
   "source": [
    "sy=df['y'].sum()\n",
    "print(sy)\n"
   ]
  },
  {
   "cell_type": "code",
   "execution_count": 27,
   "metadata": {},
   "outputs": [
    {
     "name": "stdout",
     "output_type": "stream",
     "text": [
      "1641\n"
     ]
    }
   ],
   "source": [
    "sx=df['x'].sum()\n",
    "print(sx)"
   ]
  },
  {
   "cell_type": "code",
   "execution_count": 28,
   "metadata": {},
   "outputs": [
    {
     "name": "stdout",
     "output_type": "stream",
     "text": [
      "2179\n"
     ]
    }
   ],
   "source": [
    "sy=df['y'].sum()\n",
    "print(sy)"
   ]
  },
  {
   "cell_type": "code",
   "execution_count": 29,
   "metadata": {},
   "outputs": [],
   "source": [
    "df['x2'] = df['x'].apply(lambda x: pow(x, 2))"
   ]
  },
  {
   "cell_type": "code",
   "execution_count": 30,
   "metadata": {},
   "outputs": [],
   "source": [
    "df['y2'] = df['y'].apply(lambda x: pow(x, 2))"
   ]
  },
  {
   "cell_type": "code",
   "execution_count": 31,
   "metadata": {},
   "outputs": [
    {
     "data": {
      "text/plain": [
       "array(['EDAD <55 O >55', 'TIPO DE PARALISIS FACIAL', '<36 meses, >36 m',\n",
       "       'Nº INFILTRACIONES', 'GRADO ESCALA HOUSE-BRACKMANN', 'x', 'y',\n",
       "       'FDI PUNTUACIÓN SUBESCALA FUNCIONAMIENTO FÍSICO',\n",
       "       'FDI PUNTUACIÓN SUBESCALA FUNCIONAMIENTO SOCIAL Y BIENESTAR ',\n",
       "       'CUESTIONARIO DE SATISFACCIÓN', 'SEXO', 'x2', 'y2'], dtype=object)"
      ]
     },
     "execution_count": 31,
     "metadata": {},
     "output_type": "execute_result"
    }
   ],
   "source": [
    "df.columns.values"
   ]
  },
  {
   "cell_type": "code",
   "execution_count": 32,
   "metadata": {},
   "outputs": [
    {
     "name": "stdout",
     "output_type": "stream",
     "text": [
      "101075\n",
      "164685\n"
     ]
    }
   ],
   "source": [
    "s2x=df['x2'].sum()\n",
    "s2y=df['y2'].sum()\n",
    "print(s2x)\n",
    "print(s2y)"
   ]
  },
  {
   "cell_type": "code",
   "execution_count": 33,
   "metadata": {},
   "outputs": [],
   "source": [
    "df['xy'] = df['x']*df['y']"
   ]
  },
  {
   "cell_type": "code",
   "execution_count": 34,
   "metadata": {},
   "outputs": [
    {
     "data": {
      "text/plain": [
       "array(['EDAD <55 O >55', 'TIPO DE PARALISIS FACIAL', '<36 meses, >36 m',\n",
       "       'Nº INFILTRACIONES', 'GRADO ESCALA HOUSE-BRACKMANN', 'x', 'y',\n",
       "       'FDI PUNTUACIÓN SUBESCALA FUNCIONAMIENTO FÍSICO',\n",
       "       'FDI PUNTUACIÓN SUBESCALA FUNCIONAMIENTO SOCIAL Y BIENESTAR ',\n",
       "       'CUESTIONARIO DE SATISFACCIÓN', 'SEXO', 'x2', 'y2', 'xy'],\n",
       "      dtype=object)"
      ]
     },
     "execution_count": 34,
     "metadata": {},
     "output_type": "execute_result"
    }
   ],
   "source": [
    "df.columns.values"
   ]
  },
  {
   "cell_type": "code",
   "execution_count": 35,
   "metadata": {},
   "outputs": [
    {
     "name": "stdout",
     "output_type": "stream",
     "text": [
      "119342\n"
     ]
    }
   ],
   "source": [
    "sxy = df['xy'].sum()\n",
    "print(sxy)"
   ]
  },
  {
   "cell_type": "code",
   "execution_count": 36,
   "metadata": {},
   "outputs": [
    {
     "name": "stdout",
     "output_type": "stream",
     "text": [
      "31\n"
     ]
    }
   ],
   "source": [
    "n=len(df['x'])\n",
    "print(n)"
   ]
  },
  {
   "cell_type": "code",
   "execution_count": 37,
   "metadata": {},
   "outputs": [
    {
     "name": "stdout",
     "output_type": "stream",
     "text": [
      "52.935483870967744\n"
     ]
    }
   ],
   "source": [
    "xp=df['x'].mean()\n",
    "print(xp)"
   ]
  },
  {
   "cell_type": "code",
   "execution_count": 38,
   "metadata": {},
   "outputs": [
    {
     "name": "stdout",
     "output_type": "stream",
     "text": [
      "70.29032258064517\n"
     ]
    }
   ],
   "source": [
    "yp=df['y'].mean()\n",
    "print(yp)"
   ]
  },
  {
   "cell_type": "code",
   "execution_count": 39,
   "metadata": {},
   "outputs": [
    {
     "name": "stdout",
     "output_type": "stream",
     "text": [
      "0.28122303857016984\n"
     ]
    }
   ],
   "source": [
    "b1=(sxy-(1/n)*(sx*sy))/((s2x)-(1/n)*pow(sx,2))\n",
    "print(b1)"
   ]
  },
  {
   "cell_type": "code",
   "execution_count": 40,
   "metadata": {},
   "outputs": [
    {
     "name": "stdout",
     "output_type": "stream",
     "text": [
      "55.4036449582694\n"
     ]
    }
   ],
   "source": [
    "b0=yp-b1*xp\n",
    "print(b0)"
   ]
  },
  {
   "cell_type": "code",
   "execution_count": 41,
   "metadata": {},
   "outputs": [
    {
     "name": "stdout",
     "output_type": "stream",
     "text": [
      "b1:  0.28122303857016984\n",
      "b0:  55.4036449582694\n"
     ]
    }
   ],
   "source": [
    "print('b1: ', b1)\n",
    "print('b0: ', b0)"
   ]
  },
  {
   "cell_type": "code",
   "execution_count": 42,
   "metadata": {},
   "outputs": [],
   "source": [
    "import statsmodels.formula.api as smf"
   ]
  },
  {
   "cell_type": "code",
   "execution_count": 43,
   "metadata": {},
   "outputs": [],
   "source": [
    "reg = smf.ols('y~x', data=df)"
   ]
  },
  {
   "cell_type": "code",
   "execution_count": 44,
   "metadata": {},
   "outputs": [],
   "source": [
    "res=reg.fit()"
   ]
  },
  {
   "cell_type": "code",
   "execution_count": 45,
   "metadata": {},
   "outputs": [
    {
     "name": "stdout",
     "output_type": "stream",
     "text": [
      "Parametros: \n",
      "Intercept    55.403645\n",
      "x             0.281223\n",
      "dtype: float64\n"
     ]
    }
   ],
   "source": [
    "print(\"Parametros: \")\n",
    "print(res.params)"
   ]
  },
  {
   "cell_type": "code",
   "execution_count": 46,
   "metadata": {},
   "outputs": [],
   "source": [
    "df['ypre']=df['x'].apply(lambda x: b0 + b1*x)"
   ]
  },
  {
   "cell_type": "code",
   "execution_count": 47,
   "metadata": {},
   "outputs": [],
   "source": [
    "df['yprest'] = res.predict(df['x'])"
   ]
  },
  {
   "cell_type": "code",
   "execution_count": 48,
   "metadata": {},
   "outputs": [
    {
     "data": {
      "text/html": [
       "<div>\n",
       "<style scoped>\n",
       "    .dataframe tbody tr th:only-of-type {\n",
       "        vertical-align: middle;\n",
       "    }\n",
       "\n",
       "    .dataframe tbody tr th {\n",
       "        vertical-align: top;\n",
       "    }\n",
       "\n",
       "    .dataframe thead th {\n",
       "        text-align: right;\n",
       "    }\n",
       "</style>\n",
       "<table border=\"1\" class=\"dataframe\">\n",
       "  <thead>\n",
       "    <tr style=\"text-align: right;\">\n",
       "      <th></th>\n",
       "      <th>EDAD &lt;55 O &gt;55</th>\n",
       "      <th>TIPO DE PARALISIS FACIAL</th>\n",
       "      <th>&lt;36 meses, &gt;36 m</th>\n",
       "      <th>Nº INFILTRACIONES</th>\n",
       "      <th>GRADO ESCALA HOUSE-BRACKMANN</th>\n",
       "      <th>x</th>\n",
       "      <th>y</th>\n",
       "      <th>FDI PUNTUACIÓN SUBESCALA FUNCIONAMIENTO FÍSICO</th>\n",
       "      <th>FDI PUNTUACIÓN SUBESCALA FUNCIONAMIENTO SOCIAL Y BIENESTAR</th>\n",
       "      <th>CUESTIONARIO DE SATISFACCIÓN</th>\n",
       "      <th>SEXO</th>\n",
       "      <th>x2</th>\n",
       "      <th>y2</th>\n",
       "      <th>xy</th>\n",
       "      <th>ypre</th>\n",
       "      <th>yprest</th>\n",
       "    </tr>\n",
       "  </thead>\n",
       "  <tbody>\n",
       "    <tr>\n",
       "      <th>0</th>\n",
       "      <td>0</td>\n",
       "      <td>2</td>\n",
       "      <td>0</td>\n",
       "      <td>1</td>\n",
       "      <td>2</td>\n",
       "      <td>45</td>\n",
       "      <td>50</td>\n",
       "      <td>65</td>\n",
       "      <td>24</td>\n",
       "      <td>1</td>\n",
       "      <td>MASCULINO</td>\n",
       "      <td>2025</td>\n",
       "      <td>2500</td>\n",
       "      <td>2250</td>\n",
       "      <td>68.058682</td>\n",
       "      <td>68.058682</td>\n",
       "    </tr>\n",
       "    <tr>\n",
       "      <th>1</th>\n",
       "      <td>1</td>\n",
       "      <td>3</td>\n",
       "      <td>1</td>\n",
       "      <td>6</td>\n",
       "      <td>2</td>\n",
       "      <td>54</td>\n",
       "      <td>87</td>\n",
       "      <td>100</td>\n",
       "      <td>44</td>\n",
       "      <td>0</td>\n",
       "      <td>FEMENINO</td>\n",
       "      <td>2916</td>\n",
       "      <td>7569</td>\n",
       "      <td>4698</td>\n",
       "      <td>70.589689</td>\n",
       "      <td>70.589689</td>\n",
       "    </tr>\n",
       "    <tr>\n",
       "      <th>2</th>\n",
       "      <td>1</td>\n",
       "      <td>2</td>\n",
       "      <td>1</td>\n",
       "      <td>7</td>\n",
       "      <td>3</td>\n",
       "      <td>57</td>\n",
       "      <td>72</td>\n",
       "      <td>100</td>\n",
       "      <td>36</td>\n",
       "      <td>0</td>\n",
       "      <td>FEMENINO</td>\n",
       "      <td>3249</td>\n",
       "      <td>5184</td>\n",
       "      <td>4104</td>\n",
       "      <td>71.433358</td>\n",
       "      <td>71.433358</td>\n",
       "    </tr>\n",
       "    <tr>\n",
       "      <th>3</th>\n",
       "      <td>0</td>\n",
       "      <td>2</td>\n",
       "      <td>0</td>\n",
       "      <td>2</td>\n",
       "      <td>2</td>\n",
       "      <td>62</td>\n",
       "      <td>70</td>\n",
       "      <td>90</td>\n",
       "      <td>52</td>\n",
       "      <td>1</td>\n",
       "      <td>FEMENINO</td>\n",
       "      <td>3844</td>\n",
       "      <td>4900</td>\n",
       "      <td>4340</td>\n",
       "      <td>72.839473</td>\n",
       "      <td>72.839473</td>\n",
       "    </tr>\n",
       "    <tr>\n",
       "      <th>4</th>\n",
       "      <td>1</td>\n",
       "      <td>2</td>\n",
       "      <td>0</td>\n",
       "      <td>3</td>\n",
       "      <td>3</td>\n",
       "      <td>27</td>\n",
       "      <td>48</td>\n",
       "      <td>50</td>\n",
       "      <td>28</td>\n",
       "      <td>1</td>\n",
       "      <td>MASCULINO</td>\n",
       "      <td>729</td>\n",
       "      <td>2304</td>\n",
       "      <td>1296</td>\n",
       "      <td>62.996667</td>\n",
       "      <td>62.996667</td>\n",
       "    </tr>\n",
       "  </tbody>\n",
       "</table>\n",
       "</div>"
      ],
      "text/plain": [
       "   EDAD <55 O >55  TIPO DE PARALISIS FACIAL  <36 meses, >36 m  \\\n",
       "0               0                         2                 0   \n",
       "1               1                         3                 1   \n",
       "2               1                         2                 1   \n",
       "3               0                         2                 0   \n",
       "4               1                         2                 0   \n",
       "\n",
       "   Nº INFILTRACIONES  GRADO ESCALA HOUSE-BRACKMANN   x   y  \\\n",
       "0                  1                             2  45  50   \n",
       "1                  6                             2  54  87   \n",
       "2                  7                             3  57  72   \n",
       "3                  2                             2  62  70   \n",
       "4                  3                             3  27  48   \n",
       "\n",
       "   FDI PUNTUACIÓN SUBESCALA FUNCIONAMIENTO FÍSICO  \\\n",
       "0                                              65   \n",
       "1                                             100   \n",
       "2                                             100   \n",
       "3                                              90   \n",
       "4                                              50   \n",
       "\n",
       "   FDI PUNTUACIÓN SUBESCALA FUNCIONAMIENTO SOCIAL Y BIENESTAR   \\\n",
       "0                                                 24             \n",
       "1                                                 44             \n",
       "2                                                 36             \n",
       "3                                                 52             \n",
       "4                                                 28             \n",
       "\n",
       "   CUESTIONARIO DE SATISFACCIÓN       SEXO    x2    y2    xy       ypre  \\\n",
       "0                             1  MASCULINO  2025  2500  2250  68.058682   \n",
       "1                             0   FEMENINO  2916  7569  4698  70.589689   \n",
       "2                             0   FEMENINO  3249  5184  4104  71.433358   \n",
       "3                             1   FEMENINO  3844  4900  4340  72.839473   \n",
       "4                             1  MASCULINO   729  2304  1296  62.996667   \n",
       "\n",
       "      yprest  \n",
       "0  68.058682  \n",
       "1  70.589689  \n",
       "2  71.433358  \n",
       "3  72.839473  \n",
       "4  62.996667  "
      ]
     },
     "execution_count": 48,
     "metadata": {},
     "output_type": "execute_result"
    }
   ],
   "source": [
    "df.head()"
   ]
  },
  {
   "cell_type": "code",
   "execution_count": 49,
   "metadata": {},
   "outputs": [],
   "source": [
    "df['ypro']=df['ypre'].apply(lambda x: x-yp)"
   ]
  },
  {
   "cell_type": "code",
   "execution_count": 50,
   "metadata": {},
   "outputs": [],
   "source": [
    "df['ypro'] = df['ypro'].apply(lambda x: pow(x, 2))"
   ]
  },
  {
   "cell_type": "code",
   "execution_count": 51,
   "metadata": {},
   "outputs": [
    {
     "data": {
      "text/html": [
       "<div>\n",
       "<style scoped>\n",
       "    .dataframe tbody tr th:only-of-type {\n",
       "        vertical-align: middle;\n",
       "    }\n",
       "\n",
       "    .dataframe tbody tr th {\n",
       "        vertical-align: top;\n",
       "    }\n",
       "\n",
       "    .dataframe thead th {\n",
       "        text-align: right;\n",
       "    }\n",
       "</style>\n",
       "<table border=\"1\" class=\"dataframe\">\n",
       "  <thead>\n",
       "    <tr style=\"text-align: right;\">\n",
       "      <th></th>\n",
       "      <th>EDAD &lt;55 O &gt;55</th>\n",
       "      <th>TIPO DE PARALISIS FACIAL</th>\n",
       "      <th>&lt;36 meses, &gt;36 m</th>\n",
       "      <th>Nº INFILTRACIONES</th>\n",
       "      <th>GRADO ESCALA HOUSE-BRACKMANN</th>\n",
       "      <th>x</th>\n",
       "      <th>y</th>\n",
       "      <th>FDI PUNTUACIÓN SUBESCALA FUNCIONAMIENTO FÍSICO</th>\n",
       "      <th>FDI PUNTUACIÓN SUBESCALA FUNCIONAMIENTO SOCIAL Y BIENESTAR</th>\n",
       "      <th>CUESTIONARIO DE SATISFACCIÓN</th>\n",
       "      <th>SEXO</th>\n",
       "      <th>x2</th>\n",
       "      <th>y2</th>\n",
       "      <th>xy</th>\n",
       "      <th>ypre</th>\n",
       "      <th>yprest</th>\n",
       "      <th>ypro</th>\n",
       "    </tr>\n",
       "  </thead>\n",
       "  <tbody>\n",
       "    <tr>\n",
       "      <th>0</th>\n",
       "      <td>0</td>\n",
       "      <td>2</td>\n",
       "      <td>0</td>\n",
       "      <td>1</td>\n",
       "      <td>2</td>\n",
       "      <td>45</td>\n",
       "      <td>50</td>\n",
       "      <td>65</td>\n",
       "      <td>24</td>\n",
       "      <td>1</td>\n",
       "      <td>MASCULINO</td>\n",
       "      <td>2025</td>\n",
       "      <td>2500</td>\n",
       "      <td>2250</td>\n",
       "      <td>68.058682</td>\n",
       "      <td>68.058682</td>\n",
       "      <td>4.980221</td>\n",
       "    </tr>\n",
       "    <tr>\n",
       "      <th>1</th>\n",
       "      <td>1</td>\n",
       "      <td>3</td>\n",
       "      <td>1</td>\n",
       "      <td>6</td>\n",
       "      <td>2</td>\n",
       "      <td>54</td>\n",
       "      <td>87</td>\n",
       "      <td>100</td>\n",
       "      <td>44</td>\n",
       "      <td>0</td>\n",
       "      <td>FEMENINO</td>\n",
       "      <td>2916</td>\n",
       "      <td>7569</td>\n",
       "      <td>4698</td>\n",
       "      <td>70.589689</td>\n",
       "      <td>70.589689</td>\n",
       "      <td>0.089620</td>\n",
       "    </tr>\n",
       "    <tr>\n",
       "      <th>2</th>\n",
       "      <td>1</td>\n",
       "      <td>2</td>\n",
       "      <td>1</td>\n",
       "      <td>7</td>\n",
       "      <td>3</td>\n",
       "      <td>57</td>\n",
       "      <td>72</td>\n",
       "      <td>100</td>\n",
       "      <td>36</td>\n",
       "      <td>0</td>\n",
       "      <td>FEMENINO</td>\n",
       "      <td>3249</td>\n",
       "      <td>5184</td>\n",
       "      <td>4104</td>\n",
       "      <td>71.433358</td>\n",
       "      <td>71.433358</td>\n",
       "      <td>1.306530</td>\n",
       "    </tr>\n",
       "    <tr>\n",
       "      <th>3</th>\n",
       "      <td>0</td>\n",
       "      <td>2</td>\n",
       "      <td>0</td>\n",
       "      <td>2</td>\n",
       "      <td>2</td>\n",
       "      <td>62</td>\n",
       "      <td>70</td>\n",
       "      <td>90</td>\n",
       "      <td>52</td>\n",
       "      <td>1</td>\n",
       "      <td>FEMENINO</td>\n",
       "      <td>3844</td>\n",
       "      <td>4900</td>\n",
       "      <td>4340</td>\n",
       "      <td>72.839473</td>\n",
       "      <td>72.839473</td>\n",
       "      <td>6.498170</td>\n",
       "    </tr>\n",
       "    <tr>\n",
       "      <th>4</th>\n",
       "      <td>1</td>\n",
       "      <td>2</td>\n",
       "      <td>0</td>\n",
       "      <td>3</td>\n",
       "      <td>3</td>\n",
       "      <td>27</td>\n",
       "      <td>48</td>\n",
       "      <td>50</td>\n",
       "      <td>28</td>\n",
       "      <td>1</td>\n",
       "      <td>MASCULINO</td>\n",
       "      <td>729</td>\n",
       "      <td>2304</td>\n",
       "      <td>1296</td>\n",
       "      <td>62.996667</td>\n",
       "      <td>62.996667</td>\n",
       "      <td>53.197412</td>\n",
       "    </tr>\n",
       "  </tbody>\n",
       "</table>\n",
       "</div>"
      ],
      "text/plain": [
       "   EDAD <55 O >55  TIPO DE PARALISIS FACIAL  <36 meses, >36 m  \\\n",
       "0               0                         2                 0   \n",
       "1               1                         3                 1   \n",
       "2               1                         2                 1   \n",
       "3               0                         2                 0   \n",
       "4               1                         2                 0   \n",
       "\n",
       "   Nº INFILTRACIONES  GRADO ESCALA HOUSE-BRACKMANN   x   y  \\\n",
       "0                  1                             2  45  50   \n",
       "1                  6                             2  54  87   \n",
       "2                  7                             3  57  72   \n",
       "3                  2                             2  62  70   \n",
       "4                  3                             3  27  48   \n",
       "\n",
       "   FDI PUNTUACIÓN SUBESCALA FUNCIONAMIENTO FÍSICO  \\\n",
       "0                                              65   \n",
       "1                                             100   \n",
       "2                                             100   \n",
       "3                                              90   \n",
       "4                                              50   \n",
       "\n",
       "   FDI PUNTUACIÓN SUBESCALA FUNCIONAMIENTO SOCIAL Y BIENESTAR   \\\n",
       "0                                                 24             \n",
       "1                                                 44             \n",
       "2                                                 36             \n",
       "3                                                 52             \n",
       "4                                                 28             \n",
       "\n",
       "   CUESTIONARIO DE SATISFACCIÓN       SEXO    x2    y2    xy       ypre  \\\n",
       "0                             1  MASCULINO  2025  2500  2250  68.058682   \n",
       "1                             0   FEMENINO  2916  7569  4698  70.589689   \n",
       "2                             0   FEMENINO  3249  5184  4104  71.433358   \n",
       "3                             1   FEMENINO  3844  4900  4340  72.839473   \n",
       "4                             1  MASCULINO   729  2304  1296  62.996667   \n",
       "\n",
       "      yprest       ypro  \n",
       "0  68.058682   4.980221  \n",
       "1  70.589689   0.089620  \n",
       "2  71.433358   1.306530  \n",
       "3  72.839473   6.498170  \n",
       "4  62.996667  53.197412  "
      ]
     },
     "execution_count": 51,
     "metadata": {},
     "output_type": "execute_result"
    }
   ],
   "source": [
    "df.head()"
   ]
  },
  {
   "cell_type": "code",
   "execution_count": 52,
   "metadata": {},
   "outputs": [
    {
     "name": "stdout",
     "output_type": "stream",
     "text": [
      "SSR:  1123.6493298844164\n"
     ]
    }
   ],
   "source": [
    "print('SSR: ', df['ypro'].sum())"
   ]
  },
  {
   "cell_type": "code",
   "execution_count": 53,
   "metadata": {},
   "outputs": [],
   "source": [
    "ssr=b1*(sxy-(1/n)*sx*sy)"
   ]
  },
  {
   "cell_type": "code",
   "execution_count": 54,
   "metadata": {},
   "outputs": [
    {
     "name": "stdout",
     "output_type": "stream",
     "text": [
      "SSR:  1123.649329884417\n"
     ]
    }
   ],
   "source": [
    "print('SSR: ', ssr)"
   ]
  },
  {
   "cell_type": "code",
   "execution_count": 55,
   "metadata": {},
   "outputs": [
    {
     "name": "stdout",
     "output_type": "stream",
     "text": [
      "SSRsm:  1124.0\n"
     ]
    }
   ],
   "source": [
    "print('SSRsm: ', round(res.mse_model, 0))"
   ]
  },
  {
   "cell_type": "code",
   "execution_count": 56,
   "metadata": {},
   "outputs": [],
   "source": [
    "df['resta']=df['y']-df['ypre']"
   ]
  },
  {
   "cell_type": "code",
   "execution_count": 57,
   "metadata": {},
   "outputs": [],
   "source": [
    "df['resta'] = df['resta'].apply(lambda x: pow(x, 2))"
   ]
  },
  {
   "cell_type": "code",
   "execution_count": 58,
   "metadata": {},
   "outputs": [
    {
     "name": "stdout",
     "output_type": "stream",
     "text": [
      "SSE:  10398.737766889772\n"
     ]
    }
   ],
   "source": [
    "print('SSE: ', df['resta'].sum())"
   ]
  },
  {
   "cell_type": "code",
   "execution_count": 59,
   "metadata": {},
   "outputs": [
    {
     "name": "stdout",
     "output_type": "stream",
     "text": [
      "SSRsm:  10399.0\n"
     ]
    }
   ],
   "source": [
    "print('SSRsm: ', round(res.ssr, 0))"
   ]
  },
  {
   "cell_type": "code",
   "execution_count": 60,
   "metadata": {},
   "outputs": [],
   "source": [
    "df['yr'] = df['y'].apply(lambda x: x-yp)"
   ]
  },
  {
   "cell_type": "code",
   "execution_count": 61,
   "metadata": {},
   "outputs": [],
   "source": [
    "df['yr'] = df['yr'].apply(lambda x: pow(x, 2))"
   ]
  },
  {
   "cell_type": "code",
   "execution_count": 62,
   "metadata": {},
   "outputs": [
    {
     "name": "stdout",
     "output_type": "stream",
     "text": [
      "SST:  11522.387096774191\n"
     ]
    }
   ],
   "source": [
    "print(\"SST: \", df['yr'].sum())"
   ]
  },
  {
   "cell_type": "code",
   "execution_count": 63,
   "metadata": {},
   "outputs": [
    {
     "name": "stdout",
     "output_type": "stream",
     "text": [
      "11522.387096774211\n"
     ]
    }
   ],
   "source": [
    "sst=s2y-(1/n)*pow(sy, 2)\n",
    "print(sst)"
   ]
  },
  {
   "cell_type": "code",
   "execution_count": 64,
   "metadata": {},
   "outputs": [
    {
     "name": "stdout",
     "output_type": "stream",
     "text": [
      "11522.38709677419\n"
     ]
    }
   ],
   "source": [
    "sst2=ssr+df['resta'].sum()\n",
    "print(sst2)"
   ]
  },
  {
   "cell_type": "code",
   "execution_count": 65,
   "metadata": {},
   "outputs": [],
   "source": [
    "SSE = df['resta'].sum()"
   ]
  },
  {
   "cell_type": "code",
   "execution_count": 66,
   "metadata": {},
   "outputs": [
    {
     "name": "stdout",
     "output_type": "stream",
     "text": [
      "MSE:  358.58\n"
     ]
    }
   ],
   "source": [
    "MSE=SSE/(n-2)\n",
    "print('MSE: ', round(MSE, 2))"
   ]
  },
  {
   "cell_type": "code",
   "execution_count": 67,
   "metadata": {},
   "outputs": [
    {
     "name": "stdout",
     "output_type": "stream",
     "text": [
      "MSEsm:  358.58\n"
     ]
    }
   ],
   "source": [
    "print('MSEsm: ', round(res.mse_resid, 2))"
   ]
  },
  {
   "cell_type": "code",
   "execution_count": 68,
   "metadata": {},
   "outputs": [],
   "source": [
    "import math"
   ]
  },
  {
   "cell_type": "code",
   "execution_count": 69,
   "metadata": {},
   "outputs": [
    {
     "name": "stdout",
     "output_type": "stream",
     "text": [
      "Se:  18.936\n"
     ]
    }
   ],
   "source": [
    "print('Se: ', round(math.sqrt(MSE), 3))"
   ]
  },
  {
   "cell_type": "code",
   "execution_count": 70,
   "metadata": {},
   "outputs": [],
   "source": [
    "msr = ssr/1"
   ]
  },
  {
   "cell_type": "code",
   "execution_count": 71,
   "metadata": {},
   "outputs": [
    {
     "name": "stdout",
     "output_type": "stream",
     "text": [
      "MSR:  1123.649329884417\n"
     ]
    }
   ],
   "source": [
    "print('MSR: ', msr)"
   ]
  },
  {
   "cell_type": "code",
   "execution_count": 72,
   "metadata": {},
   "outputs": [],
   "source": [
    "from texttable import Texttable"
   ]
  },
  {
   "cell_type": "code",
   "execution_count": 73,
   "metadata": {},
   "outputs": [],
   "source": [
    "t = Texttable()"
   ]
  },
  {
   "cell_type": "code",
   "execution_count": 74,
   "metadata": {},
   "outputs": [
    {
     "data": {
      "text/plain": [
       "<texttable.Texttable at 0x1874a947278>"
      ]
     },
     "execution_count": 74,
     "metadata": {},
     "output_type": "execute_result"
    }
   ],
   "source": [
    "t.add_rows([['Fuente', 'grados de libertad', 'SS', 'MS', 'F'], \n",
    "            ['Regresion', 1, ssr, msr, msr/MSE],\n",
    "            ['Error', n-2, SSE, SSE/(n-2), ''],\n",
    "            ['Total', n-1, sst, '', '']\n",
    "          ])"
   ]
  },
  {
   "cell_type": "code",
   "execution_count": 75,
   "metadata": {},
   "outputs": [
    {
     "name": "stdout",
     "output_type": "stream",
     "text": [
      "+-----------+--------------------+-----------+----------+-------+\n",
      "|  Fuente   | grados de libertad |    SS     |    MS    |   F   |\n",
      "+===========+====================+===========+==========+=======+\n",
      "| Regresion | 1                  | 1123.649  | 1123.649 | 3.134 |\n",
      "+-----------+--------------------+-----------+----------+-------+\n",
      "| Error     | 29                 | 10398.738 | 358.577  |       |\n",
      "+-----------+--------------------+-----------+----------+-------+\n",
      "| Total     | 30                 | 11522.387 |          |       |\n",
      "+-----------+--------------------+-----------+----------+-------+\n"
     ]
    }
   ],
   "source": [
    "print(t.draw())"
   ]
  },
  {
   "cell_type": "code",
   "execution_count": 76,
   "metadata": {},
   "outputs": [],
   "source": [
    "import statsmodels.api as sm"
   ]
  },
  {
   "cell_type": "code",
   "execution_count": 77,
   "metadata": {},
   "outputs": [],
   "source": [
    "anova  = sm.stats.anova_lm(res, typ=2)"
   ]
  },
  {
   "cell_type": "code",
   "execution_count": 78,
   "metadata": {},
   "outputs": [
    {
     "name": "stdout",
     "output_type": "stream",
     "text": [
      "                sum_sq    df         F    PR(>F)\n",
      "x          1123.649330   1.0  3.133633  0.087206\n",
      "Residual  10398.737767  29.0       NaN       NaN\n"
     ]
    }
   ],
   "source": [
    "print(anova)"
   ]
  },
  {
   "cell_type": "code",
   "execution_count": 79,
   "metadata": {},
   "outputs": [],
   "source": [
    "R=ssr/sst # coeficiente de correlacion entre x e y"
   ]
  },
  {
   "cell_type": "code",
   "execution_count": 80,
   "metadata": {},
   "outputs": [
    {
     "name": "stdout",
     "output_type": "stream",
     "text": [
      "R:  0.0975\n"
     ]
    }
   ],
   "source": [
    "print(\"R: \", round(R, 4)) # no estan correladas"
   ]
  },
  {
   "cell_type": "code",
   "execution_count": 81,
   "metadata": {},
   "outputs": [
    {
     "name": "stdout",
     "output_type": "stream",
     "text": [
      "StatsModels R:  0.0975\n"
     ]
    }
   ],
   "source": [
    "print('StatsModels R: ', round(res.rsquared, 4))"
   ]
  },
  {
   "cell_type": "code",
   "execution_count": 82,
   "metadata": {},
   "outputs": [],
   "source": [
    "from numpy.polynomial.polynomial import polyfit"
   ]
  },
  {
   "cell_type": "code",
   "execution_count": 83,
   "metadata": {},
   "outputs": [],
   "source": [
    "import matplotlib.pyplot as plt"
   ]
  },
  {
   "cell_type": "code",
   "execution_count": 84,
   "metadata": {},
   "outputs": [],
   "source": [
    "x=df['x']\n",
    "y=df['y']"
   ]
  },
  {
   "cell_type": "code",
   "execution_count": 85,
   "metadata": {},
   "outputs": [],
   "source": [
    "b,m = polyfit(x,y,1)"
   ]
  },
  {
   "cell_type": "code",
   "execution_count": 86,
   "metadata": {},
   "outputs": [
    {
     "data": {
      "image/png": "[encoded data removed]",
      "text/plain": [
       "<Figure size 432x288 with 1 Axes>"
      ]
     },
     "metadata": {
      "needs_background": "light"
     },
     "output_type": "display_data"
    }
   ],
   "source": [
    "plt.plot(x,y, '.')\n",
    "plt.plot(x, b+m*x, '-')\n",
    "plt.show()"
   ]
  },
  {
   "cell_type": "raw",
   "metadata": {},
   "source": [
    "* el 9 % de los datos estan explicados por el modelo"
   ]
  },
  {
   "cell_type": "raw",
   "metadata": {},
   "source": [
    "* H0 : B1 (PENDIENTE) = 0, ES DECIR NO HAY RELACION ENTRE X E Y\n",
    "* H1 : B1 ES DISTINTO DE CERO , ES DECIR SI HAY UNA RELACION ENTRE X E Y"
   ]
  },
  {
   "cell_type": "code",
   "execution_count": 87,
   "metadata": {},
   "outputs": [],
   "source": [
    "rmse = math.sqrt(MSE)"
   ]
  },
  {
   "cell_type": "code",
   "execution_count": 88,
   "metadata": {},
   "outputs": [],
   "source": [
    "sb1=rmse/math.sqrt(s2x-(1-n)*pow(sx, 2))"
   ]
  },
  {
   "cell_type": "code",
   "execution_count": 89,
   "metadata": {},
   "outputs": [],
   "source": [
    "t=b1/sb1"
   ]
  },
  {
   "cell_type": "code",
   "execution_count": 90,
   "metadata": {},
   "outputs": [
    {
     "name": "stdout",
     "output_type": "stream",
     "text": [
      "133.5673\n"
     ]
    }
   ],
   "source": [
    "print(round(t, 4))"
   ]
  },
  {
   "cell_type": "code",
   "execution_count": 91,
   "metadata": {},
   "outputs": [],
   "source": [
    "from scipy import stats"
   ]
  },
  {
   "cell_type": "code",
   "execution_count": 92,
   "metadata": {},
   "outputs": [],
   "source": [
    "a=0.05/2"
   ]
  },
  {
   "cell_type": "code",
   "execution_count": 93,
   "metadata": {},
   "outputs": [],
   "source": [
    "q=1-a"
   ]
  },
  {
   "cell_type": "code",
   "execution_count": 94,
   "metadata": {},
   "outputs": [],
   "source": [
    "gld=n-2"
   ]
  },
  {
   "cell_type": "code",
   "execution_count": 95,
   "metadata": {},
   "outputs": [],
   "source": [
    "p=stats.t.ppf(q, gld, )"
   ]
  },
  {
   "cell_type": "code",
   "execution_count": 96,
   "metadata": {},
   "outputs": [
    {
     "name": "stdout",
     "output_type": "stream",
     "text": [
      "2.045229642132703\n"
     ]
    }
   ],
   "source": [
    "print(p)"
   ]
  },
  {
   "cell_type": "code",
   "execution_count": 97,
   "metadata": {},
   "outputs": [
    {
     "name": "stdout",
     "output_type": "stream",
     "text": [
      "Se rechaza H0, por lo tanto si existe dependencia\n"
     ]
    }
   ],
   "source": [
    "if p < abs(t) :\n",
    "    print('Se rechaza H0, por lo tanto si existe dependencia')\n",
    "if p > abs(t) :\n",
    "    print('Se rechaza H0, por lo tanto si existe dependencia ')"
   ]
  },
  {
   "cell_type": "code",
   "execution_count": 98,
   "metadata": {},
   "outputs": [],
   "source": [
    "F=msr/MSE"
   ]
  },
  {
   "cell_type": "code",
   "execution_count": 99,
   "metadata": {},
   "outputs": [
    {
     "name": "stdout",
     "output_type": "stream",
     "text": [
      "F : 3.1336332636835413\n"
     ]
    }
   ],
   "source": [
    "print('F :', F)"
   ]
  },
  {
   "cell_type": "code",
   "execution_count": 100,
   "metadata": {},
   "outputs": [],
   "source": [
    "gln=1\n",
    "gld=n-2\n",
    "a=0.05\n",
    "q=1-a"
   ]
  },
  {
   "cell_type": "code",
   "execution_count": 101,
   "metadata": {},
   "outputs": [],
   "source": [
    "c=stats.f.pdf(q, dfn=gln, dfd=gld)"
   ]
  },
  {
   "cell_type": "code",
   "execution_count": 102,
   "metadata": {},
   "outputs": [
    {
     "name": "stdout",
     "output_type": "stream",
     "text": [
      "0.2502203652698088\n"
     ]
    }
   ],
   "source": [
    "print(c)"
   ]
  },
  {
   "cell_type": "code",
   "execution_count": 103,
   "metadata": {},
   "outputs": [
    {
     "name": "stdout",
     "output_type": "stream",
     "text": [
      "Rechazamos H0, por lo tanto, el modelo es significativo y = b0 + b1x\n"
     ]
    }
   ],
   "source": [
    "if  F > c:\n",
    "    print('Rechazamos H0, por lo tanto, el modelo es significativo y = b0 + b1x')"
   ]
  },
  {
   "cell_type": "code",
   "execution_count": 104,
   "metadata": {},
   "outputs": [],
   "source": [
    "import matplotlib.pyplot as plt\n",
    "import statsmodels.api as sm"
   ]
  },
  {
   "cell_type": "code",
   "execution_count": 105,
   "metadata": {},
   "outputs": [
    {
     "data": {
      "image/png": "[encoded data removed]",
      "text/plain": [
       "<Figure size 864x576 with 1 Axes>"
      ]
     },
     "metadata": {
      "needs_background": "light"
     },
     "output_type": "display_data"
    }
   ],
   "source": [
    "fig, ax = plt.subplots(figsize = (12, 8))\n",
    "fig = sm.graphics.plot_fit(res,'x', ax=ax)"
   ]
  },
  {
   "cell_type": "code",
   "execution_count": 106,
   "metadata": {},
   "outputs": [],
   "source": [
    "import seaborn as sns"
   ]
  },
  {
   "cell_type": "code",
   "execution_count": 107,
   "metadata": {},
   "outputs": [
    {
     "data": {
      "image/png": "[encoded data removed]",
      "text/plain": [
       "<Figure size 864x576 with 1 Axes>"
      ]
     },
     "metadata": {
      "needs_background": "light"
     },
     "output_type": "display_data"
    }
   ],
   "source": [
    "\n",
    "\n",
    "\n",
    "fig, ax = plt.subplots(figsize = (12, 8))\n",
    "fig = sm.graphics.plot_fit(res,'x', ax=ax)\n",
    "ax = sns.regplot(x=df['x'],y=df['y'],  color='g', ci=95 )"
   ]
  },
  {
   "cell_type": "markdown",
   "metadata": {},
   "source": [
    "################################################################################################"
   ]
  },
  {
   "cell_type": "code",
   "execution_count": 108,
   "metadata": {},
   "outputs": [],
   "source": [
    "data_xls = pd.read_excel('data_1.xlsx', 'Hoja1', index_col=None)\n",
    "data_xls.to_csv('csvfile.csv', encoding='utf-8', index=False)"
   ]
  },
  {
   "cell_type": "code",
   "execution_count": 109,
   "metadata": {},
   "outputs": [],
   "source": [
    "df = pd.read_csv('csvfile.csv',low_memory=False)"
   ]
  },
  {
   "cell_type": "code",
   "execution_count": 110,
   "metadata": {},
   "outputs": [],
   "source": [
    "df = df.drop(['EDAD', 'PUNTUACIÓN MEDIA CUESTIONARIO SATISFACCIÓN DISMINUCIÓN TIRANTEZ', 'PUNTUACIÓN MEDIA CUESTIONARIO SATISFACCIÓN DISMINUCIÓN SINCINESIAS'], axis=1)"
   ]
  },
  {
   "cell_type": "code",
   "execution_count": 111,
   "metadata": {},
   "outputs": [],
   "source": [
    "df = df.drop(['TIEMPO EVOLUCION '], axis=1)"
   ]
  },
  {
   "cell_type": "code",
   "execution_count": 112,
   "metadata": {},
   "outputs": [],
   "source": [
    "df = df.rename(columns={'SUNNYBROOK PRE':'y','SUNNYBROOK POST':'x'})"
   ]
  },
  {
   "cell_type": "code",
   "execution_count": 113,
   "metadata": {},
   "outputs": [
    {
     "name": "stdout",
     "output_type": "stream",
     "text": [
      "2179\n"
     ]
    }
   ],
   "source": [
    "sx=df['x'].sum()\n",
    "print(sx)"
   ]
  },
  {
   "cell_type": "code",
   "execution_count": 114,
   "metadata": {},
   "outputs": [
    {
     "name": "stdout",
     "output_type": "stream",
     "text": [
      "1641\n"
     ]
    }
   ],
   "source": [
    "sy=df['y'].sum()\n",
    "print(sy)"
   ]
  },
  {
   "cell_type": "code",
   "execution_count": 115,
   "metadata": {},
   "outputs": [],
   "source": [
    "df['x2'] = df['x'].apply(lambda x: pow(x, 2))"
   ]
  },
  {
   "cell_type": "code",
   "execution_count": 116,
   "metadata": {},
   "outputs": [],
   "source": [
    "df['y2'] = df['y'].apply(lambda x: pow(x, 2))"
   ]
  },
  {
   "cell_type": "code",
   "execution_count": 117,
   "metadata": {},
   "outputs": [
    {
     "data": {
      "text/plain": [
       "array(['EDAD <55 O >55', 'TIPO DE PARALISIS FACIAL', '<36 meses, >36 m',\n",
       "       'Nº INFILTRACIONES', 'GRADO ESCALA HOUSE-BRACKMANN', 'y', 'x',\n",
       "       'FDI PUNTUACIÓN SUBESCALA FUNCIONAMIENTO FÍSICO',\n",
       "       'FDI PUNTUACIÓN SUBESCALA FUNCIONAMIENTO SOCIAL Y BIENESTAR ',\n",
       "       'CUESTIONARIO DE SATISFACCIÓN', 'SEXO', 'x2', 'y2'], dtype=object)"
      ]
     },
     "execution_count": 117,
     "metadata": {},
     "output_type": "execute_result"
    }
   ],
   "source": [
    "df.columns.values"
   ]
  },
  {
   "cell_type": "code",
   "execution_count": 118,
   "metadata": {},
   "outputs": [
    {
     "name": "stdout",
     "output_type": "stream",
     "text": [
      "164685\n",
      "101075\n"
     ]
    }
   ],
   "source": [
    "s2x=df['x2'].sum()\n",
    "s2y=df['y2'].sum()\n",
    "print(s2x)\n",
    "print(s2y)"
   ]
  },
  {
   "cell_type": "code",
   "execution_count": 119,
   "metadata": {},
   "outputs": [],
   "source": [
    "df['xy'] = df['x']*df['y']"
   ]
  },
  {
   "cell_type": "code",
   "execution_count": 120,
   "metadata": {},
   "outputs": [
    {
     "data": {
      "text/plain": [
       "array(['EDAD <55 O >55', 'TIPO DE PARALISIS FACIAL', '<36 meses, >36 m',\n",
       "       'Nº INFILTRACIONES', 'GRADO ESCALA HOUSE-BRACKMANN', 'y', 'x',\n",
       "       'FDI PUNTUACIÓN SUBESCALA FUNCIONAMIENTO FÍSICO',\n",
       "       'FDI PUNTUACIÓN SUBESCALA FUNCIONAMIENTO SOCIAL Y BIENESTAR ',\n",
       "       'CUESTIONARIO DE SATISFACCIÓN', 'SEXO', 'x2', 'y2', 'xy'],\n",
       "      dtype=object)"
      ]
     },
     "execution_count": 120,
     "metadata": {},
     "output_type": "execute_result"
    }
   ],
   "source": [
    "df.columns.values"
   ]
  },
  {
   "cell_type": "code",
   "execution_count": 121,
   "metadata": {},
   "outputs": [
    {
     "name": "stdout",
     "output_type": "stream",
     "text": [
      "119342\n"
     ]
    }
   ],
   "source": [
    "sxy = df['xy'].sum()\n",
    "print(sxy)"
   ]
  },
  {
   "cell_type": "code",
   "execution_count": 122,
   "metadata": {},
   "outputs": [
    {
     "name": "stdout",
     "output_type": "stream",
     "text": [
      "31\n"
     ]
    }
   ],
   "source": [
    "n=len(df['x'])\n",
    "print(n)"
   ]
  },
  {
   "cell_type": "code",
   "execution_count": 123,
   "metadata": {},
   "outputs": [
    {
     "name": "stdout",
     "output_type": "stream",
     "text": [
      "70.29032258064517\n"
     ]
    }
   ],
   "source": [
    "xp=df['x'].mean()\n",
    "print(xp)"
   ]
  },
  {
   "cell_type": "code",
   "execution_count": 124,
   "metadata": {},
   "outputs": [
    {
     "name": "stdout",
     "output_type": "stream",
     "text": [
      "52.935483870967744\n"
     ]
    }
   ],
   "source": [
    "yp=df['y'].mean()\n",
    "print(yp)"
   ]
  },
  {
   "cell_type": "code",
   "execution_count": 125,
   "metadata": {},
   "outputs": [
    {
     "name": "stdout",
     "output_type": "stream",
     "text": [
      "0.3467667430024013\n"
     ]
    }
   ],
   "source": [
    "b1=(sxy-(1/n)*(sx*sy))/((s2x)-(1/n)*pow(sx,2))\n",
    "print(b1)"
   ]
  },
  {
   "cell_type": "code",
   "execution_count": 126,
   "metadata": {},
   "outputs": [
    {
     "name": "stdout",
     "output_type": "stream",
     "text": [
      "28.56113764508928\n"
     ]
    }
   ],
   "source": [
    "b0=yp-b1*xp\n",
    "print(b0)"
   ]
  },
  {
   "cell_type": "code",
   "execution_count": 127,
   "metadata": {},
   "outputs": [
    {
     "name": "stdout",
     "output_type": "stream",
     "text": [
      "b1:  0.3467667430024013\n",
      "b0:  28.56113764508928\n"
     ]
    }
   ],
   "source": [
    "print('b1: ', b1)\n",
    "print('b0: ', b0)"
   ]
  },
  {
   "cell_type": "code",
   "execution_count": 128,
   "metadata": {},
   "outputs": [],
   "source": [
    "import statsmodels.formula.api as smf"
   ]
  },
  {
   "cell_type": "code",
   "execution_count": 129,
   "metadata": {},
   "outputs": [],
   "source": [
    "reg = smf.ols('y~x', data=df)"
   ]
  },
  {
   "cell_type": "code",
   "execution_count": 130,
   "metadata": {},
   "outputs": [],
   "source": [
    "res=reg.fit()"
   ]
  },
  {
   "cell_type": "code",
   "execution_count": 131,
   "metadata": {},
   "outputs": [
    {
     "name": "stdout",
     "output_type": "stream",
     "text": [
      "Parametros: \n",
      "Intercept    28.561138\n",
      "x             0.346767\n",
      "dtype: float64\n"
     ]
    }
   ],
   "source": [
    "print(\"Parametros: \")\n",
    "print(res.params)"
   ]
  },
  {
   "cell_type": "code",
   "execution_count": 132,
   "metadata": {},
   "outputs": [],
   "source": [
    "df['ypre']=df['x'].apply(lambda x: b0 + b1*x)"
   ]
  },
  {
   "cell_type": "code",
   "execution_count": 133,
   "metadata": {},
   "outputs": [],
   "source": [
    "df['yprest'] = res.predict(df['x'])"
   ]
  },
  {
   "cell_type": "code",
   "execution_count": 134,
   "metadata": {},
   "outputs": [
    {
     "data": {
      "text/html": [
       "<div>\n",
       "<style scoped>\n",
       "    .dataframe tbody tr th:only-of-type {\n",
       "        vertical-align: middle;\n",
       "    }\n",
       "\n",
       "    .dataframe tbody tr th {\n",
       "        vertical-align: top;\n",
       "    }\n",
       "\n",
       "    .dataframe thead th {\n",
       "        text-align: right;\n",
       "    }\n",
       "</style>\n",
       "<table border=\"1\" class=\"dataframe\">\n",
       "  <thead>\n",
       "    <tr style=\"text-align: right;\">\n",
       "      <th></th>\n",
       "      <th>EDAD &lt;55 O &gt;55</th>\n",
       "      <th>TIPO DE PARALISIS FACIAL</th>\n",
       "      <th>&lt;36 meses, &gt;36 m</th>\n",
       "      <th>Nº INFILTRACIONES</th>\n",
       "      <th>GRADO ESCALA HOUSE-BRACKMANN</th>\n",
       "      <th>y</th>\n",
       "      <th>x</th>\n",
       "      <th>FDI PUNTUACIÓN SUBESCALA FUNCIONAMIENTO FÍSICO</th>\n",
       "      <th>FDI PUNTUACIÓN SUBESCALA FUNCIONAMIENTO SOCIAL Y BIENESTAR</th>\n",
       "      <th>CUESTIONARIO DE SATISFACCIÓN</th>\n",
       "      <th>SEXO</th>\n",
       "      <th>x2</th>\n",
       "      <th>y2</th>\n",
       "      <th>xy</th>\n",
       "      <th>ypre</th>\n",
       "      <th>yprest</th>\n",
       "    </tr>\n",
       "  </thead>\n",
       "  <tbody>\n",
       "    <tr>\n",
       "      <th>0</th>\n",
       "      <td>0</td>\n",
       "      <td>2</td>\n",
       "      <td>0</td>\n",
       "      <td>1</td>\n",
       "      <td>2</td>\n",
       "      <td>45</td>\n",
       "      <td>50</td>\n",
       "      <td>65</td>\n",
       "      <td>24</td>\n",
       "      <td>1</td>\n",
       "      <td>MASCULINO</td>\n",
       "      <td>2500</td>\n",
       "      <td>2025</td>\n",
       "      <td>2250</td>\n",
       "      <td>45.899475</td>\n",
       "      <td>45.899475</td>\n",
       "    </tr>\n",
       "    <tr>\n",
       "      <th>1</th>\n",
       "      <td>1</td>\n",
       "      <td>3</td>\n",
       "      <td>1</td>\n",
       "      <td>6</td>\n",
       "      <td>2</td>\n",
       "      <td>54</td>\n",
       "      <td>87</td>\n",
       "      <td>100</td>\n",
       "      <td>44</td>\n",
       "      <td>0</td>\n",
       "      <td>FEMENINO</td>\n",
       "      <td>7569</td>\n",
       "      <td>2916</td>\n",
       "      <td>4698</td>\n",
       "      <td>58.729844</td>\n",
       "      <td>58.729844</td>\n",
       "    </tr>\n",
       "    <tr>\n",
       "      <th>2</th>\n",
       "      <td>1</td>\n",
       "      <td>2</td>\n",
       "      <td>1</td>\n",
       "      <td>7</td>\n",
       "      <td>3</td>\n",
       "      <td>57</td>\n",
       "      <td>72</td>\n",
       "      <td>100</td>\n",
       "      <td>36</td>\n",
       "      <td>0</td>\n",
       "      <td>FEMENINO</td>\n",
       "      <td>5184</td>\n",
       "      <td>3249</td>\n",
       "      <td>4104</td>\n",
       "      <td>53.528343</td>\n",
       "      <td>53.528343</td>\n",
       "    </tr>\n",
       "    <tr>\n",
       "      <th>3</th>\n",
       "      <td>0</td>\n",
       "      <td>2</td>\n",
       "      <td>0</td>\n",
       "      <td>2</td>\n",
       "      <td>2</td>\n",
       "      <td>62</td>\n",
       "      <td>70</td>\n",
       "      <td>90</td>\n",
       "      <td>52</td>\n",
       "      <td>1</td>\n",
       "      <td>FEMENINO</td>\n",
       "      <td>4900</td>\n",
       "      <td>3844</td>\n",
       "      <td>4340</td>\n",
       "      <td>52.834810</td>\n",
       "      <td>52.834810</td>\n",
       "    </tr>\n",
       "    <tr>\n",
       "      <th>4</th>\n",
       "      <td>1</td>\n",
       "      <td>2</td>\n",
       "      <td>0</td>\n",
       "      <td>3</td>\n",
       "      <td>3</td>\n",
       "      <td>27</td>\n",
       "      <td>48</td>\n",
       "      <td>50</td>\n",
       "      <td>28</td>\n",
       "      <td>1</td>\n",
       "      <td>MASCULINO</td>\n",
       "      <td>2304</td>\n",
       "      <td>729</td>\n",
       "      <td>1296</td>\n",
       "      <td>45.205941</td>\n",
       "      <td>45.205941</td>\n",
       "    </tr>\n",
       "  </tbody>\n",
       "</table>\n",
       "</div>"
      ],
      "text/plain": [
       "   EDAD <55 O >55  TIPO DE PARALISIS FACIAL  <36 meses, >36 m  \\\n",
       "0               0                         2                 0   \n",
       "1               1                         3                 1   \n",
       "2               1                         2                 1   \n",
       "3               0                         2                 0   \n",
       "4               1                         2                 0   \n",
       "\n",
       "   Nº INFILTRACIONES  GRADO ESCALA HOUSE-BRACKMANN   y   x  \\\n",
       "0                  1                             2  45  50   \n",
       "1                  6                             2  54  87   \n",
       "2                  7                             3  57  72   \n",
       "3                  2                             2  62  70   \n",
       "4                  3                             3  27  48   \n",
       "\n",
       "   FDI PUNTUACIÓN SUBESCALA FUNCIONAMIENTO FÍSICO  \\\n",
       "0                                              65   \n",
       "1                                             100   \n",
       "2                                             100   \n",
       "3                                              90   \n",
       "4                                              50   \n",
       "\n",
       "   FDI PUNTUACIÓN SUBESCALA FUNCIONAMIENTO SOCIAL Y BIENESTAR   \\\n",
       "0                                                 24             \n",
       "1                                                 44             \n",
       "2                                                 36             \n",
       "3                                                 52             \n",
       "4                                                 28             \n",
       "\n",
       "   CUESTIONARIO DE SATISFACCIÓN       SEXO    x2    y2    xy       ypre  \\\n",
       "0                             1  MASCULINO  2500  2025  2250  45.899475   \n",
       "1                             0   FEMENINO  7569  2916  4698  58.729844   \n",
       "2                             0   FEMENINO  5184  3249  4104  53.528343   \n",
       "3                             1   FEMENINO  4900  3844  4340  52.834810   \n",
       "4                             1  MASCULINO  2304   729  1296  45.205941   \n",
       "\n",
       "      yprest  \n",
       "0  45.899475  \n",
       "1  58.729844  \n",
       "2  53.528343  \n",
       "3  52.834810  \n",
       "4  45.205941  "
      ]
     },
     "execution_count": 134,
     "metadata": {},
     "output_type": "execute_result"
    }
   ],
   "source": [
    "df.head()"
   ]
  },
  {
   "cell_type": "code",
   "execution_count": 135,
   "metadata": {},
   "outputs": [],
   "source": [
    "df['ypro']=df['ypre'].apply(lambda x: x-yp)"
   ]
  },
  {
   "cell_type": "code",
   "execution_count": 136,
   "metadata": {},
   "outputs": [],
   "source": [
    "df['ypro'] = df['ypro'].apply(lambda x: pow(x, 2))"
   ]
  },
  {
   "cell_type": "code",
   "execution_count": 137,
   "metadata": {},
   "outputs": [
    {
     "data": {
      "text/html": [
       "<div>\n",
       "<style scoped>\n",
       "    .dataframe tbody tr th:only-of-type {\n",
       "        vertical-align: middle;\n",
       "    }\n",
       "\n",
       "    .dataframe tbody tr th {\n",
       "        vertical-align: top;\n",
       "    }\n",
       "\n",
       "    .dataframe thead th {\n",
       "        text-align: right;\n",
       "    }\n",
       "</style>\n",
       "<table border=\"1\" class=\"dataframe\">\n",
       "  <thead>\n",
       "    <tr style=\"text-align: right;\">\n",
       "      <th></th>\n",
       "      <th>EDAD &lt;55 O &gt;55</th>\n",
       "      <th>TIPO DE PARALISIS FACIAL</th>\n",
       "      <th>&lt;36 meses, &gt;36 m</th>\n",
       "      <th>Nº INFILTRACIONES</th>\n",
       "      <th>GRADO ESCALA HOUSE-BRACKMANN</th>\n",
       "      <th>y</th>\n",
       "      <th>x</th>\n",
       "      <th>FDI PUNTUACIÓN SUBESCALA FUNCIONAMIENTO FÍSICO</th>\n",
       "      <th>FDI PUNTUACIÓN SUBESCALA FUNCIONAMIENTO SOCIAL Y BIENESTAR</th>\n",
       "      <th>CUESTIONARIO DE SATISFACCIÓN</th>\n",
       "      <th>SEXO</th>\n",
       "      <th>x2</th>\n",
       "      <th>y2</th>\n",
       "      <th>xy</th>\n",
       "      <th>ypre</th>\n",
       "      <th>yprest</th>\n",
       "      <th>ypro</th>\n",
       "    </tr>\n",
       "  </thead>\n",
       "  <tbody>\n",
       "    <tr>\n",
       "      <th>0</th>\n",
       "      <td>0</td>\n",
       "      <td>2</td>\n",
       "      <td>0</td>\n",
       "      <td>1</td>\n",
       "      <td>2</td>\n",
       "      <td>45</td>\n",
       "      <td>50</td>\n",
       "      <td>65</td>\n",
       "      <td>24</td>\n",
       "      <td>1</td>\n",
       "      <td>MASCULINO</td>\n",
       "      <td>2500</td>\n",
       "      <td>2025</td>\n",
       "      <td>2250</td>\n",
       "      <td>45.899475</td>\n",
       "      <td>45.899475</td>\n",
       "      <td>49.505424</td>\n",
       "    </tr>\n",
       "    <tr>\n",
       "      <th>1</th>\n",
       "      <td>1</td>\n",
       "      <td>3</td>\n",
       "      <td>1</td>\n",
       "      <td>6</td>\n",
       "      <td>2</td>\n",
       "      <td>54</td>\n",
       "      <td>87</td>\n",
       "      <td>100</td>\n",
       "      <td>44</td>\n",
       "      <td>0</td>\n",
       "      <td>FEMENINO</td>\n",
       "      <td>7569</td>\n",
       "      <td>2916</td>\n",
       "      <td>4698</td>\n",
       "      <td>58.729844</td>\n",
       "      <td>58.729844</td>\n",
       "      <td>33.574613</td>\n",
       "    </tr>\n",
       "    <tr>\n",
       "      <th>2</th>\n",
       "      <td>1</td>\n",
       "      <td>2</td>\n",
       "      <td>1</td>\n",
       "      <td>7</td>\n",
       "      <td>3</td>\n",
       "      <td>57</td>\n",
       "      <td>72</td>\n",
       "      <td>100</td>\n",
       "      <td>36</td>\n",
       "      <td>0</td>\n",
       "      <td>FEMENINO</td>\n",
       "      <td>5184</td>\n",
       "      <td>3249</td>\n",
       "      <td>4104</td>\n",
       "      <td>53.528343</td>\n",
       "      <td>53.528343</td>\n",
       "      <td>0.351482</td>\n",
       "    </tr>\n",
       "    <tr>\n",
       "      <th>3</th>\n",
       "      <td>0</td>\n",
       "      <td>2</td>\n",
       "      <td>0</td>\n",
       "      <td>2</td>\n",
       "      <td>2</td>\n",
       "      <td>62</td>\n",
       "      <td>70</td>\n",
       "      <td>90</td>\n",
       "      <td>52</td>\n",
       "      <td>1</td>\n",
       "      <td>FEMENINO</td>\n",
       "      <td>4900</td>\n",
       "      <td>3844</td>\n",
       "      <td>4340</td>\n",
       "      <td>52.834810</td>\n",
       "      <td>52.834810</td>\n",
       "      <td>0.010135</td>\n",
       "    </tr>\n",
       "    <tr>\n",
       "      <th>4</th>\n",
       "      <td>1</td>\n",
       "      <td>2</td>\n",
       "      <td>0</td>\n",
       "      <td>3</td>\n",
       "      <td>3</td>\n",
       "      <td>27</td>\n",
       "      <td>48</td>\n",
       "      <td>50</td>\n",
       "      <td>28</td>\n",
       "      <td>1</td>\n",
       "      <td>MASCULINO</td>\n",
       "      <td>2304</td>\n",
       "      <td>729</td>\n",
       "      <td>1296</td>\n",
       "      <td>45.205941</td>\n",
       "      <td>45.205941</td>\n",
       "      <td>59.745828</td>\n",
       "    </tr>\n",
       "  </tbody>\n",
       "</table>\n",
       "</div>"
      ],
      "text/plain": [
       "   EDAD <55 O >55  TIPO DE PARALISIS FACIAL  <36 meses, >36 m  \\\n",
       "0               0                         2                 0   \n",
       "1               1                         3                 1   \n",
       "2               1                         2                 1   \n",
       "3               0                         2                 0   \n",
       "4               1                         2                 0   \n",
       "\n",
       "   Nº INFILTRACIONES  GRADO ESCALA HOUSE-BRACKMANN   y   x  \\\n",
       "0                  1                             2  45  50   \n",
       "1                  6                             2  54  87   \n",
       "2                  7                             3  57  72   \n",
       "3                  2                             2  62  70   \n",
       "4                  3                             3  27  48   \n",
       "\n",
       "   FDI PUNTUACIÓN SUBESCALA FUNCIONAMIENTO FÍSICO  \\\n",
       "0                                              65   \n",
       "1                                             100   \n",
       "2                                             100   \n",
       "3                                              90   \n",
       "4                                              50   \n",
       "\n",
       "   FDI PUNTUACIÓN SUBESCALA FUNCIONAMIENTO SOCIAL Y BIENESTAR   \\\n",
       "0                                                 24             \n",
       "1                                                 44             \n",
       "2                                                 36             \n",
       "3                                                 52             \n",
       "4                                                 28             \n",
       "\n",
       "   CUESTIONARIO DE SATISFACCIÓN       SEXO    x2    y2    xy       ypre  \\\n",
       "0                             1  MASCULINO  2500  2025  2250  45.899475   \n",
       "1                             0   FEMENINO  7569  2916  4698  58.729844   \n",
       "2                             0   FEMENINO  5184  3249  4104  53.528343   \n",
       "3                             1   FEMENINO  4900  3844  4340  52.834810   \n",
       "4                             1  MASCULINO  2304   729  1296  45.205941   \n",
       "\n",
       "      yprest       ypro  \n",
       "0  45.899475  49.505424  \n",
       "1  58.729844  33.574613  \n",
       "2  53.528343   0.351482  \n",
       "3  52.834810   0.010135  \n",
       "4  45.205941  59.745828  "
      ]
     },
     "execution_count": 137,
     "metadata": {},
     "output_type": "execute_result"
    }
   ],
   "source": [
    "df.head()"
   ]
  },
  {
   "cell_type": "code",
   "execution_count": 138,
   "metadata": {},
   "outputs": [
    {
     "name": "stdout",
     "output_type": "stream",
     "text": [
      "SSR:  1385.5344867260105\n"
     ]
    }
   ],
   "source": [
    "print('SSR: ', df['ypro'].sum())"
   ]
  },
  {
   "cell_type": "code",
   "execution_count": 139,
   "metadata": {},
   "outputs": [],
   "source": [
    "ssr=b1*(sxy-(1/n)*sx*sy)"
   ]
  },
  {
   "cell_type": "code",
   "execution_count": 140,
   "metadata": {},
   "outputs": [
    {
     "name": "stdout",
     "output_type": "stream",
     "text": [
      "SSR:  1385.534486726018\n"
     ]
    }
   ],
   "source": [
    "print('SSR: ', ssr)"
   ]
  },
  {
   "cell_type": "code",
   "execution_count": 141,
   "metadata": {},
   "outputs": [
    {
     "name": "stdout",
     "output_type": "stream",
     "text": [
      "SSRsm:  1386.0\n"
     ]
    }
   ],
   "source": [
    "print('SSRsm: ', round(res.mse_model, 0))"
   ]
  },
  {
   "cell_type": "code",
   "execution_count": 142,
   "metadata": {},
   "outputs": [],
   "source": [
    "df['resta']=df['y']-df['ypre']"
   ]
  },
  {
   "cell_type": "code",
   "execution_count": 143,
   "metadata": {},
   "outputs": [],
   "source": [
    "df['resta'] = df['resta'].apply(lambda x: pow(x, 2))"
   ]
  },
  {
   "cell_type": "code",
   "execution_count": 144,
   "metadata": {},
   "outputs": [
    {
     "name": "stdout",
     "output_type": "stream",
     "text": [
      "SSE:  12822.336481015918\n"
     ]
    }
   ],
   "source": [
    "print('SSE: ', df['resta'].sum())"
   ]
  },
  {
   "cell_type": "code",
   "execution_count": 145,
   "metadata": {},
   "outputs": [
    {
     "name": "stdout",
     "output_type": "stream",
     "text": [
      "SSRsm:  12822.0\n"
     ]
    }
   ],
   "source": [
    "print('SSRsm: ', round(res.ssr, 0))"
   ]
  },
  {
   "cell_type": "code",
   "execution_count": 146,
   "metadata": {},
   "outputs": [],
   "source": [
    "df['yr'] = df['y'].apply(lambda x: x-yp)"
   ]
  },
  {
   "cell_type": "code",
   "execution_count": 147,
   "metadata": {},
   "outputs": [],
   "source": [
    "df['yr'] = df['yr'].apply(lambda x: pow(x, 2))"
   ]
  },
  {
   "cell_type": "code",
   "execution_count": 148,
   "metadata": {},
   "outputs": [
    {
     "name": "stdout",
     "output_type": "stream",
     "text": [
      "SST:  14207.870967741936\n"
     ]
    }
   ],
   "source": [
    "print(\"SST: \", df['yr'].sum())"
   ]
  },
  {
   "cell_type": "code",
   "execution_count": 149,
   "metadata": {},
   "outputs": [
    {
     "name": "stdout",
     "output_type": "stream",
     "text": [
      "14207.87096774194\n"
     ]
    }
   ],
   "source": [
    "sst=s2y-(1/n)*pow(sy, 2)\n",
    "print(sst)"
   ]
  },
  {
   "cell_type": "code",
   "execution_count": 150,
   "metadata": {},
   "outputs": [
    {
     "name": "stdout",
     "output_type": "stream",
     "text": [
      "14207.870967741936\n"
     ]
    }
   ],
   "source": [
    "sst2=ssr+df['resta'].sum()\n",
    "print(sst2)"
   ]
  },
  {
   "cell_type": "code",
   "execution_count": 151,
   "metadata": {},
   "outputs": [],
   "source": [
    "SSE = df['resta'].sum()"
   ]
  },
  {
   "cell_type": "code",
   "execution_count": 152,
   "metadata": {},
   "outputs": [
    {
     "name": "stdout",
     "output_type": "stream",
     "text": [
      "MSE:  442.15\n"
     ]
    }
   ],
   "source": [
    "MSE=SSE/(n-2)\n",
    "print('MSE: ', round(MSE, 2))"
   ]
  },
  {
   "cell_type": "code",
   "execution_count": 153,
   "metadata": {},
   "outputs": [
    {
     "name": "stdout",
     "output_type": "stream",
     "text": [
      "MSEsm:  442.15\n"
     ]
    }
   ],
   "source": [
    "print('MSEsm: ', round(res.mse_resid, 2))"
   ]
  },
  {
   "cell_type": "code",
   "execution_count": 154,
   "metadata": {},
   "outputs": [],
   "source": [
    "import math"
   ]
  },
  {
   "cell_type": "code",
   "execution_count": 155,
   "metadata": {},
   "outputs": [
    {
     "name": "stdout",
     "output_type": "stream",
     "text": [
      "Se:  21.027\n"
     ]
    }
   ],
   "source": [
    "print('Se: ', round(math.sqrt(MSE), 3))"
   ]
  },
  {
   "cell_type": "code",
   "execution_count": 156,
   "metadata": {},
   "outputs": [],
   "source": [
    "msr = ssr/1"
   ]
  },
  {
   "cell_type": "code",
   "execution_count": 157,
   "metadata": {},
   "outputs": [
    {
     "name": "stdout",
     "output_type": "stream",
     "text": [
      "MSR:  1385.534486726018\n"
     ]
    }
   ],
   "source": [
    "print('MSR: ', msr)"
   ]
  },
  {
   "cell_type": "code",
   "execution_count": 158,
   "metadata": {},
   "outputs": [],
   "source": [
    "from texttable import Texttable"
   ]
  },
  {
   "cell_type": "code",
   "execution_count": 159,
   "metadata": {},
   "outputs": [],
   "source": [
    "t = Texttable()"
   ]
  },
  {
   "cell_type": "code",
   "execution_count": 160,
   "metadata": {},
   "outputs": [
    {
     "data": {
      "text/plain": [
       "<texttable.Texttable at 0x1874b8c4f28>"
      ]
     },
     "execution_count": 160,
     "metadata": {},
     "output_type": "execute_result"
    }
   ],
   "source": [
    "t.add_rows([['Fuente', 'grados de libertad', 'SS', 'MS', 'F'], \n",
    "            ['Regresion', 1, ssr, msr, msr/MSE],\n",
    "            ['Error', n-2, SSE, SSE/(n-2), ''],\n",
    "            ['Total', n-1, sst, '', '']\n",
    "          ])"
   ]
  },
  {
   "cell_type": "code",
   "execution_count": 161,
   "metadata": {},
   "outputs": [
    {
     "name": "stdout",
     "output_type": "stream",
     "text": [
      "+-----------+--------------------+-----------+----------+-------+\n",
      "|  Fuente   | grados de libertad |    SS     |    MS    |   F   |\n",
      "+===========+====================+===========+==========+=======+\n",
      "| Regresion | 1                  | 1385.534  | 1385.534 | 3.134 |\n",
      "+-----------+--------------------+-----------+----------+-------+\n",
      "| Error     | 29                 | 12822.336 | 442.150  |       |\n",
      "+-----------+--------------------+-----------+----------+-------+\n",
      "| Total     | 30                 | 14207.871 |          |       |\n",
      "+-----------+--------------------+-----------+----------+-------+\n"
     ]
    }
   ],
   "source": [
    "print(t.draw())"
   ]
  },
  {
   "cell_type": "code",
   "execution_count": 162,
   "metadata": {},
   "outputs": [],
   "source": [
    "anova  = sm.stats.anova_lm(res, typ=2)"
   ]
  },
  {
   "cell_type": "code",
   "execution_count": 163,
   "metadata": {},
   "outputs": [
    {
     "name": "stdout",
     "output_type": "stream",
     "text": [
      "                sum_sq    df         F    PR(>F)\n",
      "x          1385.534487   1.0  3.133633  0.087206\n",
      "Residual  12822.336481  29.0       NaN       NaN\n"
     ]
    }
   ],
   "source": [
    "print(anova)"
   ]
  },
  {
   "cell_type": "code",
   "execution_count": 164,
   "metadata": {},
   "outputs": [],
   "source": [
    "R=ssr/sst # coeficiente de correlacion entre x e y"
   ]
  },
  {
   "cell_type": "code",
   "execution_count": 165,
   "metadata": {},
   "outputs": [
    {
     "name": "stdout",
     "output_type": "stream",
     "text": [
      "R:  0.0975\n"
     ]
    }
   ],
   "source": [
    "print(\"R: \", round(R, 4)) # no estan correladas"
   ]
  },
  {
   "cell_type": "code",
   "execution_count": 166,
   "metadata": {},
   "outputs": [
    {
     "name": "stdout",
     "output_type": "stream",
     "text": [
      "StatsModels R:  0.0975\n"
     ]
    }
   ],
   "source": [
    "print('StatsModels R: ', round(res.rsquared, 4))"
   ]
  },
  {
   "cell_type": "code",
   "execution_count": 167,
   "metadata": {},
   "outputs": [],
   "source": [
    "from numpy.polynomial.polynomial import polyfit"
   ]
  },
  {
   "cell_type": "code",
   "execution_count": 168,
   "metadata": {},
   "outputs": [],
   "source": [
    "import matplotlib.pyplot as plt"
   ]
  },
  {
   "cell_type": "code",
   "execution_count": 169,
   "metadata": {},
   "outputs": [],
   "source": [
    "x=df['x']\n",
    "y=df['y']"
   ]
  },
  {
   "cell_type": "code",
   "execution_count": 170,
   "metadata": {},
   "outputs": [],
   "source": [
    "b,m = polyfit(x,y,1)"
   ]
  },
  {
   "cell_type": "code",
   "execution_count": 171,
   "metadata": {},
   "outputs": [
    {
     "data": {
      "image/png": "[encoded data removed]",
      "text/plain": [
       "<Figure size 432x288 with 1 Axes>"
      ]
     },
     "metadata": {
      "needs_background": "light"
     },
     "output_type": "display_data"
    }
   ],
   "source": [
    "plt.plot(x,y, '.')\n",
    "plt.plot(x, b+m*x, '-')\n",
    "plt.show()"
   ]
  },
  {
   "cell_type": "markdown",
   "metadata": {},
   "source": [
    "* H0 : B1 (PENDIENTE) = 0, ES DECIR NO HAY RELACION ENTRE X E Y\n",
    "* H1 : B1 ES DISTINTO DE CERO , ES DECIR SI HAY UNA RELACION ENTRE X E Y"
   ]
  },
  {
   "cell_type": "code",
   "execution_count": 172,
   "metadata": {},
   "outputs": [],
   "source": [
    "rmse = math.sqrt(MSE)"
   ]
  },
  {
   "cell_type": "code",
   "execution_count": 173,
   "metadata": {},
   "outputs": [],
   "source": [
    "sb1=rmse/math.sqrt(s2x-(1-n)*pow(sx, 2))"
   ]
  },
  {
   "cell_type": "code",
   "execution_count": 174,
   "metadata": {},
   "outputs": [],
   "source": [
    "t=b1/sb1"
   ]
  },
  {
   "cell_type": "code",
   "execution_count": 175,
   "metadata": {},
   "outputs": [
    {
     "name": "stdout",
     "output_type": "stream",
     "text": [
      "196.9344\n"
     ]
    }
   ],
   "source": [
    "print(round(t, 4))"
   ]
  },
  {
   "cell_type": "code",
   "execution_count": 176,
   "metadata": {},
   "outputs": [],
   "source": [
    "from scipy import stats"
   ]
  },
  {
   "cell_type": "code",
   "execution_count": 177,
   "metadata": {},
   "outputs": [],
   "source": [
    "a=0.05/2"
   ]
  },
  {
   "cell_type": "code",
   "execution_count": 178,
   "metadata": {},
   "outputs": [],
   "source": [
    "q=1-a"
   ]
  },
  {
   "cell_type": "code",
   "execution_count": 179,
   "metadata": {},
   "outputs": [],
   "source": [
    "gld=n-2"
   ]
  },
  {
   "cell_type": "code",
   "execution_count": 180,
   "metadata": {},
   "outputs": [],
   "source": [
    "p=stats.t.ppf(q, gld, )"
   ]
  },
  {
   "cell_type": "code",
   "execution_count": 181,
   "metadata": {},
   "outputs": [
    {
     "name": "stdout",
     "output_type": "stream",
     "text": [
      "2.045229642132703\n"
     ]
    }
   ],
   "source": [
    "print(p)"
   ]
  },
  {
   "cell_type": "code",
   "execution_count": 182,
   "metadata": {},
   "outputs": [
    {
     "name": "stdout",
     "output_type": "stream",
     "text": [
      "Se rechaza H0, por lo tanto si existe dependencia\n"
     ]
    }
   ],
   "source": [
    "if p < abs(t) :\n",
    "    print('Se rechaza H0, por lo tanto si existe dependencia')\n",
    "if p > abs(t) :\n",
    "    print('Se rechaza H0, por lo tanto si existe dependencia ')"
   ]
  },
  {
   "cell_type": "code",
   "execution_count": 183,
   "metadata": {},
   "outputs": [],
   "source": [
    "F=msr/MSE"
   ]
  },
  {
   "cell_type": "code",
   "execution_count": 184,
   "metadata": {},
   "outputs": [
    {
     "name": "stdout",
     "output_type": "stream",
     "text": [
      "F : 3.133633263683547\n"
     ]
    }
   ],
   "source": [
    "print('F :', F)"
   ]
  },
  {
   "cell_type": "code",
   "execution_count": 185,
   "metadata": {},
   "outputs": [],
   "source": [
    "gln=1\n",
    "gld=n-2\n",
    "a=0.05\n",
    "q=1-a"
   ]
  },
  {
   "cell_type": "code",
   "execution_count": 186,
   "metadata": {},
   "outputs": [],
   "source": [
    "c=stats.f.pdf(q, dfn=gln, dfd=gld)"
   ]
  },
  {
   "cell_type": "code",
   "execution_count": 187,
   "metadata": {},
   "outputs": [
    {
     "name": "stdout",
     "output_type": "stream",
     "text": [
      "0.2502203652698088\n"
     ]
    }
   ],
   "source": [
    "print(c)"
   ]
  },
  {
   "cell_type": "code",
   "execution_count": 188,
   "metadata": {},
   "outputs": [
    {
     "name": "stdout",
     "output_type": "stream",
     "text": [
      "Rechazamos H0, por lo tanto, el modelo es significativo y = b0 + b1x\n"
     ]
    }
   ],
   "source": [
    "if  F > c:\n",
    "    print('Rechazamos H0, por lo tanto, el modelo es significativo y = b0 + b1x')"
   ]
  },
  {
   "cell_type": "code",
   "execution_count": 189,
   "metadata": {},
   "outputs": [],
   "source": [
    "import matplotlib.pyplot as plt\n",
    "import statsmodels.api as sm"
   ]
  },
  {
   "cell_type": "code",
   "execution_count": 190,
   "metadata": {},
   "outputs": [
    {
     "data": {
      "image/png": "[encoded data removed]",
      "text/plain": [
       "<Figure size 864x576 with 1 Axes>"
      ]
     },
     "metadata": {
      "needs_background": "light"
     },
     "output_type": "display_data"
    }
   ],
   "source": [
    "fig, ax = plt.subplots(figsize = (12, 8))\n",
    "fig = sm.graphics.plot_fit(res,'x', ax=ax)"
   ]
  },
  {
   "cell_type": "code",
   "execution_count": 191,
   "metadata": {},
   "outputs": [],
   "source": [
    "import seaborn as sns"
   ]
  },
  {
   "cell_type": "code",
   "execution_count": 192,
   "metadata": {},
   "outputs": [
    {
     "data": {
      "image/png": "[encoded data removed]",
      "text/plain": [
       "<Figure size 864x576 with 1 Axes>"
      ]
     },
     "metadata": {
      "needs_background": "light"
     },
     "output_type": "display_data"
    }
   ],
   "source": [
    "fig, ax = plt.subplots(figsize = (12, 8))\n",
    "fig = sm.graphics.plot_fit(res,'x', ax=ax)\n",
    "ax = sns.regplot(x=df['x'],y=df['y'],  color='g', ci=95 )"
   ]
  },
  {
   "cell_type": "markdown",
   "metadata": {},
   "source": [
    "* Al aumentar un valor de un grupo aumenta otro, es decir, los pacientes mejoran con lo que se  le ha suministrado"
   ]
  },
  {
   "cell_type": "code",
   "execution_count": 193,
   "metadata": {},
   "outputs": [
    {
     "data": {
      "text/plain": [
       "<matplotlib.axes._subplots.AxesSubplot at 0x1874ba769b0>"
      ]
     },
     "execution_count": 193,
     "metadata": {},
     "output_type": "execute_result"
    },
    {
     "data": {
      "image/png": "[encoded data removed]",
      "text/plain": [
       "<Figure size 432x288 with 1 Axes>"
      ]
     },
     "metadata": {
      "needs_background": "light"
     },
     "output_type": "display_data"
    }
   ],
   "source": [
    "sns.countplot(df['SEXO'])"
   ]
  },
  {
   "cell_type": "code",
   "execution_count": 194,
   "metadata": {},
   "outputs": [
    {
     "data": {
      "text/plain": [
       "<matplotlib.axes._subplots.AxesSubplot at 0x1874b9ef630>"
      ]
     },
     "execution_count": 194,
     "metadata": {},
     "output_type": "execute_result"
    },
    {
     "data": {
      "image/png": "[encoded data removed]",
      "text/plain": [
       "<Figure size 432x288 with 1 Axes>"
      ]
     },
     "metadata": {
      "needs_background": "light"
     },
     "output_type": "display_data"
    }
   ],
   "source": [
    "sns.countplot(df['EDAD <55 O >55'])"
   ]
  },
  {
   "cell_type": "code",
   "execution_count": 195,
   "metadata": {},
   "outputs": [
    {
     "data": {
      "text/plain": [
       "<matplotlib.axes._subplots.AxesSubplot at 0x1874be4d828>"
      ]
     },
     "execution_count": 195,
     "metadata": {},
     "output_type": "execute_result"
    },
    {
     "data": {
      "image/png": "[encoded data removed]",
      "text/plain": [
       "<Figure size 432x288 with 1 Axes>"
      ]
     },
     "metadata": {
      "needs_background": "light"
     },
     "output_type": "display_data"
    }
   ],
   "source": [
    "sns.countplot(df['Nº INFILTRACIONES'])"
   ]
  },
  {
   "cell_type": "code",
   "execution_count": 196,
   "metadata": {},
   "outputs": [
    {
     "data": {
      "text/plain": [
       "<matplotlib.axes._subplots.AxesSubplot at 0x1874baaa710>"
      ]
     },
     "execution_count": 196,
     "metadata": {},
     "output_type": "execute_result"
    },
    {
     "data": {
      "image/png": "[encoded data removed]",
      "text/plain": [
       "<Figure size 432x288 with 1 Axes>"
      ]
     },
     "metadata": {
      "needs_background": "light"
     },
     "output_type": "display_data"
    }
   ],
   "source": [
    "sns.countplot(df['TIPO DE PARALISIS FACIAL'])"
   ]
  },
  {
   "cell_type": "code",
   "execution_count": 197,
   "metadata": {},
   "outputs": [],
   "source": [
    "import plotly.graph_objs as go \n",
    "import plotly.offline as py\n"
   ]
  },
  {
   "cell_type": "code",
   "execution_count": 198,
   "metadata": {},
   "outputs": [
    {
     "data": {
      "text/plain": [
       "<matplotlib.axes._subplots.AxesSubplot at 0x1874e009940>"
      ]
     },
     "execution_count": 198,
     "metadata": {},
     "output_type": "execute_result"
    },
    {
     "data": {
      "image/png": "[encoded data removed]",
      "text/plain": [
       "<Figure size 432x288 with 1 Axes>"
      ]
     },
     "metadata": {
      "needs_background": "light"
     },
     "output_type": "display_data"
    }
   ],
   "source": [
    "sns.countplot(df['Nº INFILTRACIONES'],hue=df['SEXO'])"
   ]
  },
  {
   "cell_type": "code",
   "execution_count": 199,
   "metadata": {},
   "outputs": [
    {
     "data": {
      "text/plain": [
       "<matplotlib.axes._subplots.AxesSubplot at 0x1874e0c66a0>"
      ]
     },
     "execution_count": 199,
     "metadata": {},
     "output_type": "execute_result"
    },
    {
     "data": {
      "image/png": "[encoded data removed]",
      "text/plain": [
       "<Figure size 432x288 with 1 Axes>"
      ]
     },
     "metadata": {
      "needs_background": "light"
     },
     "output_type": "display_data"
    }
   ],
   "source": [
    "sns.countplot(df['Nº INFILTRACIONES'],hue=df['TIPO DE PARALISIS FACIAL'])"
   ]
  },
  {
   "cell_type": "code",
   "execution_count": 200,
   "metadata": {},
   "outputs": [
    {
     "data": {
      "text/plain": [
       "<matplotlib.axes._subplots.AxesSubplot at 0x1874f176e48>"
      ]
     },
     "execution_count": 200,
     "metadata": {},
     "output_type": "execute_result"
    },
    {
     "data": {
      "image/png": "[encoded data removed]",
      "text/plain": [
       "<Figure size 432x288 with 1 Axes>"
      ]
     },
     "metadata": {
      "needs_background": "light"
     },
     "output_type": "display_data"
    }
   ],
   "source": [
    "sns.countplot(df['TIPO DE PARALISIS FACIAL'],hue=df['Nº INFILTRACIONES'])"
   ]
  },
  {
   "cell_type": "code",
   "execution_count": 201,
   "metadata": {},
   "outputs": [],
   "source": [
    "# INFILTRACIONES CON EDAD Y CON SEXO"
   ]
  },
  {
   "cell_type": "code",
   "execution_count": 202,
   "metadata": {},
   "outputs": [
    {
     "name": "stdout",
     "output_type": "stream",
     "text": [
      "['MASCULINO_0' 'FEMENINO_1' 'FEMENINO_0' 'MASCULINO_1']\n"
     ]
    }
   ],
   "source": [
    "df['combinado_Sexo_EDAD_55'] = df.apply(lambda x:'%s_%s' % (x['SEXO'],x['EDAD <55 O >55']),axis=1)\n",
    "print(df['combinado_Sexo_EDAD_55'].unique())"
   ]
  },
  {
   "cell_type": "code",
   "execution_count": 203,
   "metadata": {},
   "outputs": [
    {
     "data": {
      "text/plain": [
       "<matplotlib.axes._subplots.AxesSubplot at 0x1874b8a99b0>"
      ]
     },
     "execution_count": 203,
     "metadata": {},
     "output_type": "execute_result"
    },
    {
     "data": {
      "image/png": "[encoded data removed]",
      "text/plain": [
       "<Figure size 432x288 with 1 Axes>"
      ]
     },
     "metadata": {
      "needs_background": "light"
     },
     "output_type": "display_data"
    }
   ],
   "source": [
    "sns.countplot(df['Nº INFILTRACIONES'],hue=df['combinado_Sexo_EDAD_55'], orient='v', palette=\"Set1\")"
   ]
  },
  {
   "cell_type": "code",
   "execution_count": 204,
   "metadata": {},
   "outputs": [
    {
     "data": {
      "text/plain": [
       "<matplotlib.axes._subplots.AxesSubplot at 0x1874f2c0a58>"
      ]
     },
     "execution_count": 204,
     "metadata": {},
     "output_type": "execute_result"
    },
    {
     "data": {
      "image/png": "[encoded data removed]",
      "text/plain": [
       "<Figure size 432x288 with 1 Axes>"
      ]
     },
     "metadata": {
      "needs_background": "light"
     },
     "output_type": "display_data"
    }
   ],
   "source": [
    "sns.countplot(df['TIPO DE PARALISIS FACIAL'],hue=df['combinado_Sexo_EDAD_55'], orient='v', palette=\"Set1\")"
   ]
  },
  {
   "cell_type": "code",
   "execution_count": 205,
   "metadata": {},
   "outputs": [
    {
     "data": {
      "text/plain": [
       "<matplotlib.axes._subplots.AxesSubplot at 0x1874f36f5f8>"
      ]
     },
     "execution_count": 205,
     "metadata": {},
     "output_type": "execute_result"
    },
    {
     "data": {
      "image/png": "[encoded data removed]",
      "text/plain": [
       "<Figure size 432x288 with 1 Axes>"
      ]
     },
     "metadata": {
      "needs_background": "light"
     },
     "output_type": "display_data"
    }
   ],
   "source": [
    "sns.countplot(df['TIPO DE PARALISIS FACIAL'],hue=df['Nº INFILTRACIONES'], orient='v', palette=\"Set1\")"
   ]
  },
  {
   "cell_type": "code",
   "execution_count": 206,
   "metadata": {},
   "outputs": [],
   "source": [
    "##############test t-student#######################"
   ]
  },
  {
   "cell_type": "code",
   "execution_count": 207,
   "metadata": {},
   "outputs": [],
   "source": [
    "data_xls = pd.read_excel('data_1.xlsx', 'Hoja1', index_col=None)\n",
    "data_xls.to_csv('csvfile.csv', encoding='utf-8', index=False)"
   ]
  },
  {
   "cell_type": "code",
   "execution_count": 208,
   "metadata": {},
   "outputs": [],
   "source": [
    "df = pd.read_csv('csvfile.csv',low_memory=False)"
   ]
  },
  {
   "cell_type": "code",
   "execution_count": 209,
   "metadata": {},
   "outputs": [],
   "source": [
    "df = df.rename(columns={'SUNNYBROOK PRE':'y','SUNNYBROOK POST':'x'})"
   ]
  },
  {
   "cell_type": "code",
   "execution_count": 210,
   "metadata": {},
   "outputs": [],
   "source": [
    "var_x = df[\"x\"].var(ddof=0)"
   ]
  },
  {
   "cell_type": "code",
   "execution_count": 211,
   "metadata": {},
   "outputs": [],
   "source": [
    "var_y = df[\"y\"].var(ddof=0)"
   ]
  },
  {
   "cell_type": "code",
   "execution_count": 212,
   "metadata": {},
   "outputs": [],
   "source": [
    "s  = np.sqrt((var_x + var_y )/2)"
   ]
  },
  {
   "cell_type": "code",
   "execution_count": 213,
   "metadata": {},
   "outputs": [
    {
     "data": {
      "text/plain": [
       "20.371650947601307"
      ]
     },
     "execution_count": 213,
     "metadata": {},
     "output_type": "execute_result"
    }
   ],
   "source": [
    "s"
   ]
  },
  {
   "cell_type": "code",
   "execution_count": 214,
   "metadata": {},
   "outputs": [],
   "source": [
    "N=31"
   ]
  },
  {
   "cell_type": "code",
   "execution_count": 215,
   "metadata": {},
   "outputs": [],
   "source": [
    "t = (df[\"x\"].mean() - df[\"y\"].mean())/(s*np.sqrt(2/N))"
   ]
  },
  {
   "cell_type": "code",
   "execution_count": 216,
   "metadata": {},
   "outputs": [],
   "source": [
    "df = 2*N - 2"
   ]
  },
  {
   "cell_type": "code",
   "execution_count": 217,
   "metadata": {},
   "outputs": [],
   "source": [
    "p = 1 - stats.t.cdf(t,df=df)"
   ]
  },
  {
   "cell_type": "code",
   "execution_count": 218,
   "metadata": {},
   "outputs": [
    {
     "name": "stdout",
     "output_type": "stream",
     "text": [
      "t = 3.3539779619161236\n",
      "p = 0.0013847567441822584\n"
     ]
    }
   ],
   "source": [
    "print(\"t = \" + str(t))\n",
    "print(\"p = \" + str(2*p))"
   ]
  },
  {
   "cell_type": "code",
   "execution_count": 219,
   "metadata": {},
   "outputs": [],
   "source": [
    "# si t > p se rechaza HO, es decir, se rechaza que las dos distribuciones tengan la misma media"
   ]
  },
  {
   "cell_type": "code",
   "execution_count": 220,
   "metadata": {},
   "outputs": [],
   "source": [
    "# H0:las dos poblam¡ciones tienen la misma madea\n",
    "# H1: las dos poblaciones tienen distinta media"
   ]
  },
  {
   "cell_type": "code",
   "execution_count": 221,
   "metadata": {},
   "outputs": [
    {
     "name": "stdout",
     "output_type": "stream",
     "text": [
      "t = 4.7487833069442145\n",
      "p = 0.00016037635050714094\n",
      "t = 4.7487833069442145\n",
      "p = 0.000160376350507195\n"
     ]
    }
   ],
   "source": [
    "## Import the packages\n",
    "import numpy as np\n",
    "from scipy import stats\n",
    "\n",
    "\n",
    "## Define 2 random distributions\n",
    "#Sample Size\n",
    "N = 10\n",
    "#Gaussian distributed data with mean = 2 and var = 1\n",
    "a = np.random.randn(N) + 2\n",
    "#Gaussian distributed data with with mean = 0 and var = 1\n",
    "b = np.random.randn(N)\n",
    "\n",
    "\n",
    "## Calculate the Standard Deviation\n",
    "#Calculate the variance to get the standard deviation\n",
    "\n",
    "#For unbiased max likelihood estimate we have to divide the var by N-1, and therefore the parameter ddof = 1\n",
    "var_a = a.var(ddof=1)\n",
    "var_b = b.var(ddof=1)\n",
    "\n",
    "#std deviation\n",
    "s = np.sqrt((var_a + var_b)/2)\n",
    "s\n",
    "\n",
    "\n",
    "\n",
    "## Calculate the t-statistics\n",
    "t = (a.mean() - b.mean())/(s*np.sqrt(2/N))\n",
    "\n",
    "\n",
    "\n",
    "## Compare with the critical t-value\n",
    "#Degrees of freedom\n",
    "df = 2*N - 2\n",
    "\n",
    "#p-value after comparison with the t \n",
    "p = 1 - stats.t.cdf(t,df=df)\n",
    "\n",
    "\n",
    "print(\"t = \" + str(t))\n",
    "print(\"p = \" + str(2*p))\n",
    "### You can see that after comparing the t statistic with the critical t value (computed internally) we get a good p value of 0.0005 and thus we reject the null hypothesis and thus it proves that the mean of the two distributions are different and statistically significant.\n",
    "\n",
    "\n",
    "## Cross Checking with the internal scipy function\n",
    "t2, p2 = stats.ttest_ind(a,b)\n",
    "print(\"t = \" + str(t2))\n",
    "print(\"p = \" + str(p2))"
   ]
  },
  {
   "cell_type": "markdown",
   "metadata": {},
   "source": [
    "* Puede ver que después de comparar el estadístico t con el valor t crítico (calculado internamente) obtenemos un buen valor p de 0.0005 y, por lo tanto, rechazamos la hipótesis nula y demuestra que la media de las dos distribuciones es diferente y Estadísticamente significante."
   ]
  },
  {
   "cell_type": "code",
   "execution_count": null,
   "metadata": {},
   "outputs": [],
   "source": []
  }
 ],
 "metadata": {
  "kernelspec": {
   "display_name": "Python 3",
   "language": "python",
   "name": "python3"
  },
  "language_info": {
   "codemirror_mode": {
    "name": "ipython",
    "version": 3
   },
   "file_extension": ".py",
   "mimetype": "text/x-python",
   "name": "python",
   "nbconvert_exporter": "python",
   "pygments_lexer": "ipython3",
   "version": "3.7.3"
  }
 },
 "nbformat": 4,
 "nbformat_minor": 2
}
